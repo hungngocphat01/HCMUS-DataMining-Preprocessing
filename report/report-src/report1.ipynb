{
 "cells": [
  {
   "cell_type": "markdown",
   "metadata": {
    "tags": []
   },
   "source": [
    "# Giới thiệu \n",
    "\n",
    "Nhóm có 2 thành viên:\n",
    "- Lê Minh Phục (19120621): Làm phần Weka.\n",
    "- Hùng Ngọc Phát (19120615): Làm phần cài đặt tiền xử lý dữ liệu.\n",
    "\n",
    "| Câu hỏi                           | Tỉ lệ hoàn thành |\n",
    "|-----------------------------------|------------------|\n",
    "| Cài đặt Weka                      | 100%             |\n",
    "| Đọc dữ liệu vào Weka              | 100%             | \n",
    "| Khám phá tập dữ liệu Weather      | 100%             | \n",
    "| Khám phá tâp dữ liệu tín dụng Đức | 95%              | \n",
    "| Cài đặt tiên xử lý dữ liệu        |  100%            |      \n",
    "\n",
    "Với yêu cầu \"liệt kê và giải thích những lựa chọn của Weka để chọn lọc thuộc tính\" thì do có quá nhiều chức năng và thời gian giới hạn nên tụi em không liệt kê được tất cả."
   ]
  },
  {
   "cell_type": "markdown",
   "metadata": {},
   "source": [
    "# Làm quen với Weka"
   ]
  },
  {
   "cell_type": "markdown",
   "metadata": {},
   "source": [
    "## Yêu cầu 1: Cài đặt Weka"
   ]
  },
  {
   "cell_type": "markdown",
   "metadata": {},
   "source": [
    "Giao diện chức năng Explorer cùng màn hình desktop:\n",
    "\n",
    "![](images/weka/weka-homescreen.png)"
   ]
  },
  {
   "cell_type": "markdown",
   "metadata": {},
   "source": [
    "- **Current relation:** Cho biết tên cơ sở dữ liệu hiện đang đã được nạp, số mẫu trong tập dữ liệu, số thuộc tính trong tập dữ liệu.\n",
    "- **Attributes:** hiển thị các trường khác nhau trong cơ sở dữ liệu. Có các tùy chọn để chọn tất cả thuộc tính, hủy chọn, chọn theo regex, ...\n",
    "- **Selected attribute:** chúng ta có thể quan sát được tên thuộc tính được hiển thị (Name), loại của thuộc tính đó (Type), số lượng giá trị còn thiếu (missing), số lượng giá trị khác biệt (Distinct), số lượng giá trị duy nhất (Unique). Ngoài ra nó còn hiển thị thêm thông tin tùy vào loại của cột:  \n",
    "    - **Thuộc tính numeric:** min, max, mean, std.\n",
    "    - **Thuộc tính categorical:** danh sách các giá trị distinct cũng như tần số của chúng."
   ]
  },
  {
   "cell_type": "markdown",
   "metadata": {},
   "source": [
    "Màn hình chính của Weka Explorer có 5 tab:\n",
    "\n",
    "- **Preprocess:** chọn tệp dữ liệu, xử lý và làm cho nó phù hợp để áp dụng các thuật toán học máy khác nhau.\n",
    "- **Classify:** cung cấp một số thuật toán máy học (có giám sát và không giám sát, như SVM, logistic regression, random forest) để *phân lớp* dữ liệu.\n",
    "- **Cluster:** có một số thuật toán ML phân cụm được cung cấp như SimpleKMeans, FilteredClusterer, HierarchicalClusterer,…\n",
    "- **Associate:** sử dụng các thuật toán khai thác tập phổ biến trên dữ liệu (tìm thấy được Apriori, FilteredAssociator và FPGrowth) để tìm ra các tập phổ biến.\n",
    "- **Select Attribute:** cho phép lựa chọn các thuộc tính phù hợp dựa trên một số thuật toán như ClassifierSubsetEval, PrinicipalComponents, ... (vd: để xem các thuộc tính nào có tương quan với nhau).\n",
    "- **Visualize:** cho phép trực quan hóa dữ liệu đã xử lý để phân tích. Các đồ thị được hiển thị theo cặp các thuộc tính."
   ]
  },
  {
   "cell_type": "markdown",
   "metadata": {},
   "source": [
    "## Yêu cầu 2: Làm quen với Weka"
   ]
  },
  {
   "cell_type": "markdown",
   "metadata": {},
   "source": [
    "1. Tập dữ liệu có bao nhiêu mẫu (instances): 286.\n",
    "2. Tập dữ liệu có bao nhiêu thuộc tính (attributes): 10.\n",
    "3. Thuộc tính `Class` được dùng làm lớp. Có thể thay đổi thuộc tính dùng làm lớp bằng cách nhấp vào trường `Class` ở drop-down list bên dưới `Selected attribute` rồi chọn thuộc tính ta mong muốn dùng làm lớp.\n",
    "4. Có 2 thuộc tính bị thiếu dữ liệu: `node-caps`, `breast-quad`. Thuộc tính `node-caps` thiếu dữ liệu nhiều nhất (thiếu 8), Thuộc tính `breast-quad` thiếu dữ liệu ít nhất (thiếu 1). <br>Các cách để xử lý dữ liệu bị thiếu: điền bằng giá trị 0, điền bằng giá trị liền kề trước/sau (back/forward fill), điền bằng giá trị median/mean/mode của cột, ... <br> Trong Weka, để điền giá trị thiếu ta nhấn `Choose` tại `Filter` -> ấn vào `Filter` -> ấn `unsupervised-attribute` -> ấn `attribute` -> ấn `ReplaceMissingValues` -> ấn `Apply`.\n",
    "5. Đồ thị ở đây là histogram – hiển thị tần suất xuất hiện của các mẫu (instances) mang các lớp (Class) tương ứng đối với các thuộc tính liên tục, và là bar plot với các thuộc tính categorical (chức năng tương tự). Nếu xét riêng 1 cột thì màu xanh, đỏ thể hiện cho tỷ lệ của các instances mang giá trị là label của cột đó mà mang các Class `yes`, `no` tương ứng.\n",
    "\n",
    "![](images/weka/weka-lamquen1.png)\n",
    "\n",
    "![](images/weka/weka-lamquen2.png)"
   ]
  },
  {
   "cell_type": "markdown",
   "metadata": {},
   "source": [
    "## Yêu cầu 3: Khám phá tập dữ liệu weather"
   ]
  },
  {
   "cell_type": "markdown",
   "metadata": {},
   "source": [
    "![](images/weka/weka-weather1.png) \n",
    "\n",
    "![](images/weka/weka-weather2.png) "
   ]
  },
  {
   "cell_type": "markdown",
   "metadata": {},
   "source": [
    "1. Tập dữ liệu có 5 thuộc tính, có 14 mẫu. Thuộc tính `play` là lớp.  \n",
    "    - Các thuộc tính numeric: `attribute`, `humidity`.\n",
    "    - Các thuộc tính categorical: `outlook`, `windy`, `play`.\n",
    "2. Có vẻ như Weka không cung cấp những giá trị *five-number summary* này.\n",
    "3. Đồ thị của các thuộc tính khác:  \n",
    "    ![](images/weka/weka-weather3.png)  \n",
    "4. Thuật ngữ sử dụng trong textbook để đặt tên cho các đồ thị ở tab `Visualize` là scatter plot.  \n",
    "    ![](images/weka/weka-weather4.png)  \n",
    "    Nhìn chung các thuộc tính có vẻ không liên quan tới nhau lắm, tuy nhiên em thấy được các cặp đặc biệt sau:\n",
    "    \n",
    "    - `temperature`, `humidity`: Khi nhiệt độ tăng lên thì độ ẩm sẽ giảm xuống và khi nhiệt độ giảm xuống thì độ ẩm tăng lên, nhiệt độ và độ ẩm tỷ lệ nghịch với nhau.\n",
    "    - `temperature` và `outlook`: khi thời tiết ấm lên (sunny) thì nhiệt độ cũng tăng lên, khi thời tiết trở lạnh (rainy) thì nhiệt độ giảm xuống, nhiệt độ và thời tiết tỷ lệ với nhau.\n",
    "    "
   ]
  },
  {
   "cell_type": "markdown",
   "metadata": {},
   "source": [
    "## Yêu cầu 3: Khám phá tập dữ liệu tín dụng Đức"
   ]
  },
  {
   "cell_type": "markdown",
   "metadata": {},
   "source": [
    "![](images/weka/weka-credit1.png)  \n",
    "![](images/weka/weka-credit2.png)  \n",
    "\n",
    "\n",
    "1. Phần chú thích của file này dài khoảng 270 dòng, bao gồm \n",
    "- Tiêu đề: Dữ liệu tín dụng của Đức\n",
    "- Tác giả: Giáo sư Tiến sĩ Hans Hofmann.\n",
    "- Số lượng mẫu: 1000. \n",
    "- Chú thích: \"Hai bộ dữ liệu được cung cấp, tập dữ liệu gốc do Giáo sư Hofmann cung cấp, chứa các thuộc tính categorical/symbolic (phân loại / biểu tượng) và nằm trong tệp \"german.data\". Đối với các thuật toán cần thuộc tính số, Đại học Strathclyde đã tạo ra tệp \"german.data-numeric\". Tệp này đã được chỉnh sửa và thêm một số biến chỉ số để phù hợp với các thuật toán không thể đối phó với các biến phân loại. Một số thuộc tính được sắp xếp theo thứ tự phân loại (chẳng hạn như thuộc tính 17) đã được mã hóa dưới dạng số nguyên. Số lượng thuộc tính và chi tiết từng thuộc tính.\"\n",
    "- Có 1000 mẫu, 21 thuộc tính.\n",
    "\n",
    "**Mô tả 5 thuộc tính bất kỳ:**\n",
    "\n",
    "- Thuộc tính 1: `checking status` (liên tục): \n",
    "```\n",
    "Type: Nominal; Missing: 0 (0%); Distinct: 4; Unique: 0 (0%)\n",
    "```\n",
    "- Thuộc tính 2: `credit_history` (rời rạc):\n",
    "```\n",
    "Type: Nominal; Missing: 0 (0%); Distinct: 5; Unique: 0 (0%)\n",
    "```\n",
    "- Thuộc tính 3: `purpose` (rời rạc):\n",
    "```\n",
    "Type: Nominal; Missing: 0 (0%); Distinct: 10; Unique: 0 (0%)\n",
    "```\n",
    "- Thuộc tính 4: `saving_status` (liên tục):\n",
    "```\n",
    "Type: Nominal; Missing: 0 (0%); Distinct: 5; Unique:0 (0%)\n",
    "```\n",
    "- Thuộc tính 5: `employment` (liên tục):\n",
    "```\n",
    "Type: Nominal; Missing: 0 (0%); Distinct: 5; Unique: 0 (0%)\n",
    "```\n",
    "\n",
    "2. Tên của thuộc tính lớp là `class`. Đánh giá phân bố: lệch về một lớp (`good`). Lớp `good` có số instance gấp đôi lớp `bad`.\n",
    "\n",
    "![](images/weka/weka-credit4.png)  \n",
    "\n",
    "3. Các phương pháp của Weka để chọn lọc thuộc tính:\n",
    "\n",
    "![](images/weka/weka-attribselect.png)\n",
    "\n",
    "- **CfsSubsetEval**: Đánh giá mức độ quan trọng của một tập hợp con các thuộc tính bằng cách xem xét khả năng dự đoán riêng của từng đặc điểm cùng với mức độ dư thừa giữa chúng (tập các thuộc tính có tương quan cao với class attribute và ít bị tương quan với nhau (intercorrelate) được ưu tiên).\n",
    "- **ClassifierAttributeEval**: đánh giá mức độ quan trọng của một thuộc tính bằng cách sử dụng bộ phân lớp do người dùng chỉ định.\n",
    "- **CorrelationAttributeEval**: đánh giá mức độ quan trọng của một thuộc tính bằng cách đo lường mối tương quan giữa nó và lớp bằng hệ số tương quan Pearson.\n",
    "- **ClassifierSubsetEvaluator**: đánh giá giá trị thuộc tính trên dữ liệu training hoặc một tập cross validation (hold-out) riêng biệt.\n",
    "- **PrincipleComponents**: sử dụng giải thuật PCA (phân tích các thành phần chính) để giảm số chiều (số cột) của dữ liệu.\n",
    "- Vân vân.\n",
    "\n",
    "4. Để chọn ra 5 thuộc tính có tương quan cao nhất với thuộc tính class: cần sử dụng bộ lọc `CorrelationAttributeEval`\n",
    "    - Bước 1: Chọn tab `Select attribute`.   \n",
    "    ![](images/weka/weka-credit5.png)  \n",
    "\n",
    "    - Bước 2: Nhấn choose ở `Attribute Evaluator`, chọn `CorrelationAttributeEval`.  \n",
    "    ![](images/weka/weka-credit6.png)  \n",
    "    \n",
    "    - Bước 3: Click vào text box có chữ `Ranker` để tinh chỉnh thuật toán tìm kiếm thuộc tính. Nhập `5` vào trường `numToSelect` để chọn 5 thuộc tính có độ tương quan cao nhất với thuộc tính class. Nhấn `OK`.  \n",
    "    ![](images/weka/weka-credit7.png)  \n",
    "    \n",
    "    - Bước 4: Chọn thuộc tính lớp ở drop-down list bên dưới trường `Search Method`.  \n",
    "    ![](images/weka/weka-credit8.png)  \n",
    "    \n",
    "    - Bước 5: Nhấn Start và đợi thuật toán chạy xong. Quan sát kết quả ở text box bên phải.\n",
    "    ![](images/weka/weka-credit9.png)  \n",
    "\n",
    "Như vậy các thuộc tính đã được chọn bởi thuật toán này là: `checking_status`, `duration`, `credit_amount`, `savings_status`, `housing`."
   ]
  },
  {
   "cell_type": "code",
   "execution_count": null,
   "metadata": {},
   "outputs": [],
   "source": []
  }
 ],
 "metadata": {
  "authors": [
   {
    "name": "19120615 - Hùng Ngọc Phát"
   }
  ],
  "interpreter": {
   "hash": "3d597f4c481aa0f25dceb95d2a0067e73c0966dcbd003d741d821a7208527ecf"
  },
  "kernelspec": {
   "display_name": "Python 3",
   "language": "python",
   "name": "python3"
  },
  "language_info": {
   "codemirror_mode": {
    "name": "ipython",
    "version": 3
   },
   "file_extension": ".py",
   "mimetype": "text/x-python",
   "name": "python",
   "nbconvert_exporter": "python",
   "pygments_lexer": "ipython3",
   "version": "3.8.5"
  },
  "subject": "Khai thác dữ liệu và Ứng dụng",
  "title": "Báo cáo Lab01 - Tiền xử lý dữ liệu"
 },
 "nbformat": 4,
 "nbformat_minor": 4
}
