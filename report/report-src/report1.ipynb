{
 "cells": [
  {
   "cell_type": "markdown",
   "metadata": {},
   "source": [
    "# Giới thiệu \n",
    "\n",
    "Nhóm chỉ có một thành viên, Hùng Ngọc Phát (19120615).  \n",
    "Hiện tại thì em đã hoàn thành tất cả các câu hỏi.  \n",
    "\n",
    "| Câu hỏi                           | Tỉ lệ hoàn thành |\n",
    "|-----------------------------------|------------------|\n",
    "| Cài đặt Weka                      | 100%             |\n",
    "| Đọc dữ liệu vào Weka              | 100%             | \n",
    "| Khám phá tập dữ liệu Weather      | 100%             | \n",
    "| Khám phá tâp dữ liệu tín dụng Đức | 95%              | \n",
    "| Cài đặt tiên xử lý dữ liệu        |  100%            |      \n",
    "\n",
    "Với yêu cầu \"liệt kê và giải thích những lựa chọn của Weka để chọn lọc thuộc tính\" thì do có quá nhiều chức năng và thời gian giới hạn nên em không liệt kê được tất cả"
   ]
  },
  {
   "cell_type": "markdown",
   "metadata": {},
   "source": [
    "# Làm quen với Weka"
   ]
  },
  {
   "cell_type": "markdown",
   "metadata": {},
   "source": [
    "## Yêu cầu 1: Cài đặt Weka"
   ]
  },
  {
   "cell_type": "markdown",
   "metadata": {},
   "source": [
    "Hình ảnh Weka Explorer cùng với màn hình desktop:  \n",
    "\n",
    "![](images/weka/weka-homescreen.png)"
   ]
  },
  {
   "cell_type": "markdown",
   "metadata": {},
   "source": [
    "- **Current relation:** hiển thị các thông tin của quan hệ (bảng) vừa được nạp lên, bao gồm tên, số lượng cột (thuộc tính), số lượng bản ghi trong quan hệ và tổng trọng số (?) của quan hệ.\n",
    "- **Attributes:** hiển thị các cột của quan hệ. Có các tùy chọn để chọn tất cả thuộc tính, hủy chọn, chọn theo regex, ...\n",
    "- **Selected attribute:** Hiển thị các thông tin về thuộc tính (cột) đang được chọn ở mục **Attributes**. Bao gồm: tên cột, số giá trị bị thiếu, số giá trị khác nhau (distinct). Ngoài ra nó còn hiển thị thêm thông tin tùy vào loại của cột:  \n",
    "    - **Thuộc tính numeric:** min, max, mean, std.\n",
    "    - **Thuộc tính categorical:** danh sách các giá trị distinct cũng như tần số của chúng."
   ]
  },
  {
   "cell_type": "markdown",
   "metadata": {},
   "source": [
    "Màn hình chính của Weka Explorer có 5 tab:\n",
    "\n",
    "- **Preprocess:** dùng để nhập/xuất các tập dữ liệu và tiền xử lý chúng (như chuẩn hóa, rời rạc hóa, ...) trước khi sử dụng các chức năng khác.\n",
    "- **Classify:** xây dựng một mô hình machine learning để *phân lớp* các bản ghi (như SVM, logistic regression, random forest, ...).\n",
    "- **Cluster:** xây dựng một mô hình ML để *gom nhóm* các bản ghi (như k-means, gom nhóm phân tầng, ...).\n",
    "- **Associate:** sử dụng các thuật toán khai thác tập phổ biến trên dữ liệu (như Apriori, FPGrowth, ...) để tìm ra các tập phổ biến.\n",
    "- **Select Attribute:** tính toán các tham số thống kê để chọn ra các thuộc tính thích hợp (vd: có mối quan hệ tuyến tính với nhau, ...) cho các thuật toán học.\n",
    "- **Visualize:** trực quan hóa các điểm dữ liệu trong tập dữ liệu dưới dạng tương tự như `pairplot` của seaborn."
   ]
  },
  {
   "cell_type": "markdown",
   "metadata": {},
   "source": [
    "## Yêu cầu 2: Làm quen với Weka"
   ]
  },
  {
   "cell_type": "markdown",
   "metadata": {},
   "source": [
    "1. Tập dữ liệu có 286 mẫu.\n",
    "2. Tập dữ liệu có 10 thuộc tính.\n",
    "3. Thuộc tính dùng làm lớp tên là `Class`. Có thể thay đổi thuộc tính dùng làm lớp bằng cách thay đổi trường `Class` ở drop-down list bên dưới `Selected attribute`.\n",
    "4. Có 2 thuộc tính bị thiếu dữ liệu: `node-caps`, `breast-quad`. Thuộc tính thiếu ít nhất là `breast-quad` (1 instance, ~0%), nhiều nhất là `node-caps` (8 instance, ~3%). <br>Các cách để xử lý dữ liệu bị thiếu: điền bằng giá trị 0, điền bằng giá trị liền kề trước/sau (back/forward fill), điền bằng giá trị median/mean/mode của cột, ...\n",
    "5. Đồ thị trong cửa sổ này là histogram của attribute đang được chọn trong mục `Attributes`, nó biểu thị cho tần suất xuất hiện của các khoảng giá trị (hoặc giá trị) trong cột. Các phần màu xanh và đỏ đại diện cho số lượng của các giá trị mà hàng chứa giá trị đó mang nhãn positive hay negative tại attribute đang xét.\n",
    "\n",
    "![](images/weka/weka-lamquen1.png)\n",
    "\n",
    "![](images/weka/weka-lamquen2.png)"
   ]
  },
  {
   "cell_type": "markdown",
   "metadata": {},
   "source": [
    "## Yêu cầu 3: Khám phá tập dữ liệu weather"
   ]
  },
  {
   "cell_type": "markdown",
   "metadata": {},
   "source": [
    "![](images/weka/weka-weather1.png) \n",
    "\n",
    "![](images/weka/weka-weather2.png) "
   ]
  },
  {
   "cell_type": "markdown",
   "metadata": {},
   "source": [
    "1. Tập dữ liệu có 5 thuộc tính, có 14 mẫu. Thuộc tính `play` là lớp.  \n",
    "    - Các thuộc tính numeric: `attribute`, `humidity`.\n",
    "    - Các thuộc tính categorical: `outlook`, `windy`, `play`.\n",
    "2. Có vẻ như Weka không cung cấp những giá trị *five-number summary* này.\n",
    "3. Đồ thị của các thuộc tính khác:  \n",
    "    ![](images/weka/weka-weather3.png)  \n",
    "4. Các đồ thị ở tab *Visualize* được gọi là \"scatter plot\".  \n",
    "    ![](images/weka/weka-weather4.png)  \n",
    "    Nhìn chung các thuộc tính có vẻ không liên quan tới nhau lắm. `outlook` thì có vẻ có hơi liên quan đến `play` ($weather = overcast$ thì $play=yes$, còn với 2 giá trị còn lại thì mixed).\n",
    "    "
   ]
  },
  {
   "cell_type": "markdown",
   "metadata": {},
   "source": [
    "## Yêu cầu 3: Khám phá tập dữ liệu tín dụng Đức"
   ]
  },
  {
   "cell_type": "markdown",
   "metadata": {},
   "source": [
    "![](images/weka/weka-credit1.png)  \n",
    "![](images/weka/weka-credit2.png)  \n",
    "\n",
    "\n",
    "1. Phần chú thích của file này dài khoảng 270 dòng, bao gồm tiêu đề, tác giả, thông tin về số lượng mẫu, số lượng thuộc tính, chú thích của từng thuộc tính cho người Đức (?), ma trận chi phí (để \"phạt\" các trọng số khác nhau cho sai lầm loại 1 và 2), ... <br> Tập dữ liệu có 1000 dòng, 21 thuộc tính.\n",
    "\n",
    "![](images/weka/weka-credit3.png)  \n",
    "\n",
    "2. Tên của thuộc tính lớp là `class`. Phân bố của thuộc tính này bị lệch về giá trị `good`.\n",
    "\n",
    "![](images/weka/weka-credit4.png)  \n",
    "\n",
    "3. Các phương pháp của Weka để chọn lọc thuộc tính:\n",
    "- **CfsSubsetEval**: tập các thuộc tính có tương quan cao với class attribute và ít bị tương quan với nhau (intercorrelate) được ưu tiên.\n",
    "- **ClassifierAttributeEval**: đánh giá độ quan trọng của từng thuộc tính bằng một thuật toán phân lớp được người dùng chọn.\n",
    "- **CorrelationAttributeEval**: đánh giá độ quan trọng của từng thuộc tính bằng hệ số tương quan Pearson.\n",
    "- **GainRatioAttributeEval**: đánh giá độ quan trọng của từng thuộc tính bằng gain ratio.\n",
    "- **PrincipleComponents**: sử dụng giải thuật PCA để giảm số chiều (số cột) của dữ liệu.\n",
    "- **OneRAttributeEval**: đánh giá độ quan trọng của từng thuộc tính bằng thuật toán phân lớp OneR.\n",
    "- Vân vân.\n",
    "\n",
    "4. Để chọn ra 5 thuộc tính có tương quan cao nhất với thuộc tính class:\n",
    "    - Bước 1: Chọn tab `Select attribute`.   \n",
    "    ![](images/weka/weka-credit5.png)  \n",
    "\n",
    "    - Bước 2: Ở trường `Attribute Evaluator`, chọn `CorrelationAttributeEval`.  \n",
    "    ![](images/weka/weka-credit6.png)  \n",
    "    \n",
    "    - Bước 3: Click vào text box có chữ `Ranker` để tinh chỉnh thuật toán tìm kiếm thuộc tính. Nhập `5` vào trường `numToSelect` để chọn 5 thuộc tính có độ tương quan cao nhất với thuộc tính class. Nhấn OK.  \n",
    "    ![](images/weka/weka-credit7.png)  \n",
    "    \n",
    "    - Bước 4: Chọn thuộc tính lớp ở drop-down list bên dưới trường `Search Method`.  \n",
    "    ![](images/weka/weka-credit8.png)  \n",
    "    \n",
    "    - Bước 5: Nhấn Start và đợi thuật toán chạy xong. Quan sát kết quả ở text box bên phải.\n",
    "    ![](images/weka/weka-credit9.png)  \n",
    "\n",
    "Như vậy các thuộc tính đã được chọn bởi thuật toán này là: `checking_status`, `duration`, `credit_amount`, `savings_status`, `housing`."
   ]
  }
 ],
 "metadata": {
  "authors": [
   {
    "name": "19120615 - Hùng Ngọc Phát"
   }
  ],
  "interpreter": {
   "hash": "3d597f4c481aa0f25dceb95d2a0067e73c0966dcbd003d741d821a7208527ecf"
  },
  "kernelspec": {
   "display_name": "Python 3 (ipykernel)",
   "language": "python",
   "name": "python3"
  },
  "language_info": {
   "codemirror_mode": {
    "name": "ipython",
    "version": 3
   },
   "file_extension": ".py",
   "mimetype": "text/x-python",
   "name": "python",
   "nbconvert_exporter": "python",
   "pygments_lexer": "ipython3",
   "version": "3.9.5"
  },
  "subject": "Khai thác dữ liệu và Ứng dụng",
  "title": "Báo cáo Lab01 - Tiền xử lý dữ liệu"
 },
 "nbformat": 4,
 "nbformat_minor": 4
}
