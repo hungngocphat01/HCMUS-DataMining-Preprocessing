{
 "cells": [
  {
   "cell_type": "markdown",
   "id": "022d22e7-bf84-49a5-a6fc-3fd0d7c851cc",
   "metadata": {},
   "source": [
    "# Chương trình tiền xử lý dữ liệu"
   ]
  },
  {
   "cell_type": "markdown",
   "id": "d6e3592e-2fab-428d-922e-d525ba017316",
   "metadata": {},
   "source": [
    "## Giới thiệu"
   ]
  },
  {
   "cell_type": "markdown",
   "id": "d1aa60bd-567c-4f6a-bab9-09f5bfa21b37",
   "metadata": {},
   "source": [
    "- **Tên chương trình:** Honoda (**Hono**ka's **Da**ta Preprocessor), được đặt tên theo nhân vật anime yêu thích của em - Kousaka Honoka `=)`.\n",
    "- **Ngôn ngữ lập trình:** Python 3.9.5.\n",
    "- **Các thư viện đã sử dụng:**\n",
    "    - `argparse`: thư viện phân tích tham số dòng lệnh của Python.\n",
    "    - `csv`: thư viện đọc/ghi file CSV của Python.\n",
    "    - `re`: thư viện xử lý biểu thức chính quy. Dùng để phân tích pattern của dữ liệu để đoán kiểu dữ liệu (do data đọc vào từ CSV là dạng chuỗi).\n",
    "    - `copy`: để copy các object trong Python, tránh trường hợp các mutable member variables bị cross-referenced.\n",
    "    - `math`: các hàm toán học trong Python.\n",
    "    - `operator`: thư viện để lấy ra các tham chiếu đến các toán tử cơ bản trong Python (như `add`, `sub`, ...) để implement operator overloading.\n",
    "    - `honolib`: thư viện xử lý dataframe cơ bản do em phát triển.\n",
    "    - Chương trình không sử dụng các thư viện ngoài.  \n",
    "    \n",
    "Báo cáo của bài này em viết bằng Jupyter Notebook, có đính kèm theo notebook gốc trước khi convert sang PDF nên thầy có thể thử chạy để kiểm chứng kết quả ạ. \n",
    "\n",
    "Trong quá trình viết báo cáo, em sẽ sử dụng thư viện `pandas` để **đối chiếu kết quả** thực hiện của 2 bên trong một số trường hợp để xem implementation của em có hoạt động \"chuẩn\" chưa. Ngoài ra có một số chức năng em cần cho quá trình demo mà đề không yêu cầu (như xuất ra 10 dòng đầu của file thay vì xuất hết 1000 dòng) thì em xin được dùng một số câu lệnh trên terminal của Linux (như `head`, `tail`, `grep`, ...) để tiết kiệm thời gian ạ."
   ]
  },
  {
   "cell_type": "markdown",
   "id": "e3ef3db3-6aee-4a9e-a480-544d5f4e153d",
   "metadata": {},
   "source": [
    "## Danh sách các lớp của chương trình\n",
    "![class-diagram](images/class_diagram.png)\n",
    "\n",
    "- `Series`: biểu diễn một cột của bảng. \n",
    "- `DataFrame`: biểu diễn một bảng. \n",
    "- `SeriesExpression`: biểu diễn một biểu thức mà các toán hạng là các cột.\n",
    "- `Controller`: để gom nhóm các hàm xử lý của chương trình lại. Mỗi phương thức ứng với một chức năng yêu cầu của đề. Hàm main sẽ phân tích tham số dòng lệnh để gọi đến các phương thức tương ứng trong class này."
   ]
  },
  {
   "cell_type": "markdown",
   "id": "bf54b44d",
   "metadata": {},
   "source": [
    "Trên đây là sơ đồ lớp các lớp chính của chương trình do em đã thiết kế. Do số lượng hàm khá nhiều nên em cũng xin không ghi các hàm private cũng như các hàm liên quan đến quá tải toán tử trong này. Để biết chức năng và cách sử dụng mỗi hàm, thầy có thể xem source code của các module tương ứng. Mỗi hàm em đều có viết một docstring để mô tả tham số, chức năng và dữ liệu trả về."
   ]
  },
  {
   "cell_type": "markdown",
   "id": "ceafbe9b-f2bd-4f9e-9ee9-ae40e3243463",
   "metadata": {},
   "source": [
    "## Báo cáo các chức năng chính"
   ]
  },
  {
   "cell_type": "markdown",
   "id": "868536c1-3722-4f8a-8aa9-4d92496302c3",
   "metadata": {},
   "source": [
    "Cơ bản em đã hoàn thiện được tất cả 8 chức năng mà đề yêu cầu. Cụ thể như các mục con ở bên dưới."
   ]
  },
  {
   "cell_type": "markdown",
   "id": "11a2340a-f31e-40de-a002-b9ab01908196",
   "metadata": {},
   "source": [
    "Thử gọi lệnh help của chương trình:"
   ]
  },
  {
   "cell_type": "code",
   "execution_count": 1,
   "id": "f2817f5d-6af8-46c1-bf86-d0d6a976b539",
   "metadata": {},
   "outputs": [
    {
     "name": "stdout",
     "output_type": "stream",
     "text": [
      "/home/hiraki/source/DataMining/DataCleasing/src\n"
     ]
    }
   ],
   "source": [
    "%cd ../src"
   ]
  },
  {
   "cell_type": "code",
   "execution_count": 2,
   "id": "995c2376-ff8a-434d-b134-349abc8ce00b",
   "metadata": {},
   "outputs": [
    {
     "name": "stdout",
     "output_type": "stream",
     "text": [
      "usage: honoda.py [-h] [-o OUTPUT] [-v]\n",
      "                 {stats,fillna,dropna,dropdup,normalize,evaluate} ... INPUT\n",
      "\n",
      "Honoka's Data Preprocessing Toolbox\n",
      "\n",
      "positional arguments:\n",
      "  {stats,fillna,dropna,dropdup,normalize,evaluate}\n",
      "                        Honoda subcommands\n",
      "    stats               Display data statistics\n",
      "    fillna              Fill null values\n",
      "    dropna              Drop column or row with null values\n",
      "    dropdup             Only keep unique rows from the dataframe\n",
      "    normalize           Normalize a column\n",
      "    evaluate            Evaluate a columnar expression\n",
      "  INPUT                 Input filename\n",
      "\n",
      "optional arguments:\n",
      "  -h, --help            show this help message and exit\n",
      "  -o OUTPUT, --out OUTPUT\n",
      "                        Output filename\n",
      "  -v, --verbose         Increase verbosity\n"
     ]
    }
   ],
   "source": [
    "!python3 honoda.py --help"
   ]
  },
  {
   "cell_type": "code",
   "execution_count": 3,
   "id": "ebf4a8eb-4240-4e98-829b-8c9e33dbed58",
   "metadata": {},
   "outputs": [
    {
     "name": "stdout",
     "output_type": "stream",
     "text": [
      "usage: honoda.py stats [-h] [--shape | -ls | -d COLUMN | -cnr | -lnc]\n",
      "\n",
      "optional arguments:\n",
      "  -h, --help            show this help message and exit\n",
      "  --shape               Print dataframe's shape\n",
      "  -ls, --list-columns   List all columns and their detected datatype\n",
      "  -d COLUMN, --describe COLUMN\n",
      "                        Display statistical info (min, max, mean, mode, ...)\n",
      "                        of a column\n",
      "  -cnr, --count-null-rows\n",
      "                        Count all rows with at least one null value, and\n",
      "                        display the total null-ed rows\n",
      "  -lnc, --list-null-columns\n",
      "                        List all columns with at least one null value, and\n",
      "                        their total null counts\n"
     ]
    }
   ],
   "source": [
    "!python3 honoda.py stats --help"
   ]
  },
  {
   "cell_type": "markdown",
   "id": "844d706e-5e79-47d3-a8cd-0509721b526d",
   "metadata": {},
   "source": [
    "### Thử liệt kê ra 10 cột đầu và cuối của bảng"
   ]
  },
  {
   "cell_type": "code",
   "execution_count": 4,
   "id": "ce82cda6-20b4-478c-a824-3017fc318e02",
   "metadata": {},
   "outputs": [
    {
     "name": "stdout",
     "output_type": "stream",
     "text": [
      "Id              \t <class 'int'>\n",
      "MSSubClass      \t <class 'int'>\n",
      "MSZoning        \t <class 'str'>\n",
      "LotFrontage     \t <class 'float'>\n",
      "LotArea         \t <class 'int'>\n",
      "Street          \t <class 'str'>\n",
      "Alley           \t <class 'str'>\n",
      "LotShape        \t <class 'str'>\n",
      "LandContour     \t <class 'str'>\n",
      "Utilities       \t <class 'str'>\n",
      "\n",
      "PoolQC          \t None\n",
      "Fence           \t <class 'str'>\n",
      "MiscFeature     \t <class 'str'>\n",
      "MiscVal         \t <class 'int'>\n",
      "MoSold          \t <class 'int'>\n",
      "YrSold          \t <class 'int'>\n",
      "SaleType        \t <class 'str'>\n",
      "SaleCondition   \t <class 'str'>\n",
      "SalePrice       \t <class 'int'>\n",
      "Total: 81 columns.\n"
     ]
    }
   ],
   "source": [
    "# Liệt kê tất cả các cột, ghi ra file cols.txt\n",
    "!python3 honoda.py stats --list-columns ../house-prices.csv > cols.txt\n",
    "\n",
    "# Xuất 10 cột đầu và 10 cột cuối của bảng (dùng lệnh head và tail của Linux).\n",
    "!head -n 10 cols.txt \n",
    "!echo\n",
    "!tail -n 10 cols.txt\n",
    "!rm cols.txt"
   ]
  },
  {
   "cell_type": "markdown",
   "id": "1a1f8e9d-1061-47d5-9b5b-3af9f6a7b671",
   "metadata": {},
   "source": [
    "Cột `PoolQC` có kiểu là `None` vì cột này không chứa bất cứ dữ liệu nào."
   ]
  },
  {
   "cell_type": "markdown",
   "id": "d3581b85-9205-443c-ae82-c7d5f22a969b",
   "metadata": {},
   "source": [
    "### Yêu cầu 1: Liệt kê các cột bị thiếu dữ liệu"
   ]
  },
  {
   "cell_type": "code",
   "execution_count": 5,
   "id": "3e63fb87-a9c3-4608-95fd-aaa763b541eb",
   "metadata": {},
   "outputs": [
    {
     "name": "stdout",
     "output_type": "stream",
     "text": [
      "LotFrontage   \t 173\n",
      "Alley         \t 941\n",
      "MasVnrType    \t 593\n",
      "MasVnrArea    \t 10\n",
      "BsmtQual      \t 27\n",
      "BsmtCond      \t 27\n",
      "BsmtExposure  \t 28\n",
      "BsmtFinType1  \t 27\n",
      "BsmtFinType2  \t 29\n",
      "FireplaceQu   \t 501\n",
      "GarageType    \t 60\n",
      "GarageYrBlt   \t 60\n",
      "GarageFinish  \t 60\n",
      "GarageQual    \t 60\n",
      "GarageCond    \t 60\n",
      "PoolQC        \t 1000\n",
      "Fence         \t 815\n",
      "MiscFeature   \t 963\n",
      "\n",
      "Total null values: 5434\n"
     ]
    }
   ],
   "source": [
    "!python3 honoda.py stats --list-null-columns ../house-prices.csv"
   ]
  },
  {
   "cell_type": "markdown",
   "id": "47259057-1e7c-4df5-9cdf-790749e6f514",
   "metadata": {},
   "source": [
    "Thử kiểm tra lại bằng thư viện \"chuẩn\" `pandas`:"
   ]
  },
  {
   "cell_type": "code",
   "execution_count": 6,
   "id": "0d72a355-9cf2-4460-ab69-b5bf4ffd7c9e",
   "metadata": {},
   "outputs": [],
   "source": [
    "import pandas as pd\n",
    "df = pd.read_csv('../house-prices.csv')"
   ]
  },
  {
   "cell_type": "code",
   "execution_count": 7,
   "id": "33228b83-3c47-47bd-bc67-1ba8370e9b7b",
   "metadata": {},
   "outputs": [
    {
     "name": "stdout",
     "output_type": "stream",
     "text": [
      "LotFrontage          173\n",
      "Alley                941\n",
      "MasVnrType           593\n",
      "MasVnrArea           10\n",
      "BsmtQual             27\n",
      "BsmtCond             27\n",
      "BsmtExposure         28\n",
      "BsmtFinType1         27\n",
      "BsmtFinType2         29\n",
      "FireplaceQu          501\n",
      "GarageType           60\n",
      "GarageYrBlt          60\n",
      "GarageFinish         60\n",
      "GarageQual           60\n",
      "GarageCond           60\n",
      "PoolQC               1000\n",
      "Fence                815\n",
      "MiscFeature          963\n"
     ]
    }
   ],
   "source": [
    "for col in df.columns:\n",
    "    null_val = df[col].isnull().sum()\n",
    "    if null_val > 0:\n",
    "        print(col.ljust(20), null_val)"
   ]
  },
  {
   "cell_type": "markdown",
   "id": "2c6fc683-1595-44c0-812d-6ad768c8b8bf",
   "metadata": {},
   "source": [
    "### Yêu cầu 2: Đếm số hàng bị thiếu dữ liệu"
   ]
  },
  {
   "cell_type": "code",
   "execution_count": 8,
   "id": "c047a8af-05e7-4661-8690-17445629dc33",
   "metadata": {},
   "outputs": [
    {
     "name": "stdout",
     "output_type": "stream",
     "text": [
      "Number of null rows in dataframe: 1000\n"
     ]
    }
   ],
   "source": [
    "!python3 honoda.py stats --count-null-rows ../house-prices.csv"
   ]
  },
  {
   "cell_type": "markdown",
   "id": "569ff349-41da-46b7-bb92-4ec7721d8a35",
   "metadata": {},
   "source": [
    "Kiểm tra lại bằng `pandas`:"
   ]
  },
  {
   "cell_type": "code",
   "execution_count": 9,
   "id": "097cb732-566e-4ac9-b399-f3f290fab213",
   "metadata": {},
   "outputs": [
    {
     "data": {
      "text/plain": [
       "1000"
      ]
     },
     "execution_count": 9,
     "metadata": {},
     "output_type": "execute_result"
    }
   ],
   "source": [
    "len(df) - len(df.dropna())"
   ]
  },
  {
   "cell_type": "markdown",
   "id": "53e19d4e-db77-4943-be9b-ffe97c39a15e",
   "metadata": {},
   "source": [
    "### Yêu cầu 3: Điền giá trị thiếu với thuộc tính numeric (phương pháp mean)\n",
    "Bây giờ ta thử điền giá trị thiếu cho cột `LotFrontage`. Theo như ta đã thấy ở trên thì cột này có kiểu dữ liệu là `int`.\n",
    "2 câu lệnh bên dưới để in ra thông số của cột `LotFrontage` trước khi thực hiện fill, và sau đó gọi lệnh để fill các giá trị null bằng phương pháp mean, sau đó xuất ra file `out.csv`. Câu lệnh cuối cùng để kiểm tra lại kết quả sau khi fill."
   ]
  },
  {
   "cell_type": "code",
   "execution_count": 10,
   "id": "b79e3573-b0b8-4f0f-b92b-de6ad38af817",
   "metadata": {},
   "outputs": [
    {
     "name": "stdout",
     "output_type": "stream",
     "text": [
      "Type:             <class 'float'>\n",
      "Length:           1000\n",
      "Null values:      173\n",
      "Label:            LotFrontage\n",
      "Sum:              57314.0\n",
      "Mean:             69.3035\n",
      "Median:           73.0\n",
      "Std:              21.2598\n",
      "Min-Max:          (21.0, 153.0)\n",
      "Mode:             (60.0, 117)\n"
     ]
    }
   ],
   "source": [
    "# Xem thông số cột trước khi fill\n",
    "!python3 honoda.py stats --describe LotFrontage ../house-prices.csv"
   ]
  },
  {
   "cell_type": "code",
   "execution_count": 11,
   "id": "2086168a-7a3a-4596-b82f-4885e30a424e",
   "metadata": {},
   "outputs": [
    {
     "name": "stdout",
     "output_type": "stream",
     "text": [
      "Type:             <class 'float'>\n",
      "Length:           1000\n",
      "Null values:      0\n",
      "Label:            LotFrontage\n",
      "Sum:              69303.5067\n",
      "Mean:             69.3035\n",
      "Median:           69.3035\n",
      "Std:              19.3336\n",
      "Min-Max:          (21.0, 153.0)\n",
      "Mode:             (69.30350665054414, 173)\n"
     ]
    }
   ],
   "source": [
    "# Fill với phương pháp mean\n",
    "!python3 honoda.py -o out.csv fillna --method mean --column LotFrontage ../house-prices.csv\n",
    "# In lại thông số của cột sau khi fill\n",
    "!python3 honoda.py stats --describe LotFrontage out.csv"
   ]
  },
  {
   "cell_type": "markdown",
   "id": "0d3d1901-a9d4-4821-bf9c-d528b8fa924b",
   "metadata": {},
   "source": [
    "Ta nhận thấy số giá trị null đã giảm về 0. Ngoài ra, giá trị mean là 69.3035 do bị điền lặp đi lặp lại tới 173 lần cũng đã thay thế 60.0, trở thành giá trị mode của cột."
   ]
  },
  {
   "cell_type": "markdown",
   "id": "f44948fa-854d-4f6c-9e27-6968fcefe86a",
   "metadata": {},
   "source": [
    "Thử lại với cột `PoolQC` (cột hoàn toàn rỗng, không chứa dữ liệu)."
   ]
  },
  {
   "cell_type": "code",
   "execution_count": 12,
   "id": "f01d5414-0e7e-4394-9ca8-b137d6bc27c3",
   "metadata": {},
   "outputs": [
    {
     "name": "stdout",
     "output_type": "stream",
     "text": [
      "Before\n",
      "Type:             None\n",
      "Length:           1000\n",
      "Null values:      1000\n",
      "Label:            PoolQC\n",
      "Sum:              None\n",
      "Mean:             None\n",
      "Median:           None\n",
      "Std:              None\n",
      "Min-Max:          None\n",
      "Mode:             (0, 0)\n",
      "Forcing method \"mode\" for categorical column\n",
      "\n",
      "After\n",
      "Type:             <class 'int'>\n",
      "Length:           1000\n",
      "Null values:      0\n",
      "Label:            PoolQC\n",
      "Sum:              0\n",
      "Mean:             0.0\n",
      "Median:           0\n",
      "Std:              0.0\n",
      "Min-Max:          (0, 0)\n",
      "Mode:             (0, 1000)\n"
     ]
    }
   ],
   "source": [
    "!echo \"Before\"\n",
    "!python3 honoda.py stats --describe PoolQC ../house-prices.csv\n",
    "!python3 honoda.py -o out.csv fillna --method mean --column PoolQC ../house-prices.csv\n",
    "!echo \"\\nAfter\"\n",
    "!python3 honoda.py stats --describe PoolQC out.csv"
   ]
  },
  {
   "cell_type": "markdown",
   "id": "ebc82834-b87b-4aad-84f2-9706e7c789a2",
   "metadata": {},
   "source": [
    "Trong tham số dòng lệnh mặc dù em đã cho `--method=mean` nhưng chương trình vẫn fill bằng phương pháp `mode`, là vì nó đã nhận diện cột này là categorical (cột rỗng tính là categorical) và bắt buộc phải fill theo `mode` thay vì `mean`.  \n",
    "Ngoài ra, dễ thấy được cột đã được fill bằng giá trị `0`. Điều này là nếu do cột rỗng thì biến đếm của cột (trong implementation) sẽ không bao giờ tăng nên nó vẫn ở giá trị `0`, do đó cột được fill bằng giá trị `0`."
   ]
  },
  {
   "cell_type": "markdown",
   "id": "9948f6a5-42ff-42b1-86fc-0f6a8d078b9d",
   "metadata": {},
   "source": [
    "### Yêu cầu 3: Điền giá trị thiếu với thuộc tính numeric (phương pháp median)\n",
    "Tương tự như trên, nhưng lần này ta thực hiện với cột `GarageYrBlt`. Cột này có kiểu dữ liệu `float`."
   ]
  },
  {
   "cell_type": "code",
   "execution_count": 13,
   "id": "4458329b-033f-43c5-8fc2-fbcd98687adb",
   "metadata": {},
   "outputs": [
    {
     "name": "stdout",
     "output_type": "stream",
     "text": [
      "Type:             <class 'float'>\n",
      "Length:           1000\n",
      "Null values:      60\n",
      "Label:            GarageYrBlt\n",
      "Sum:              1859474.0\n",
      "Mean:             1978.1638\n",
      "Median:           1985.0\n",
      "Std:              25.2207\n",
      "Min-Max:          (1900.0, 2010.0)\n",
      "Mode:             (2006.0, 42)\n"
     ]
    }
   ],
   "source": [
    "# In ra thông số cột trước khi fill\n",
    "!python3 honoda.py stats --describe GarageYrBlt ../house-prices.csv"
   ]
  },
  {
   "cell_type": "code",
   "execution_count": 14,
   "id": "2d3851af-fa7d-4538-bb04-c9397a5ef441",
   "metadata": {},
   "outputs": [
    {
     "name": "stdout",
     "output_type": "stream",
     "text": [
      "Type:             <class 'float'>\n",
      "Length:           1000\n",
      "Null values:      0\n",
      "Label:            GarageYrBlt\n",
      "Sum:              1978574.0\n",
      "Mean:             1978.574\n",
      "Median:           1985.0\n",
      "Std:              24.5062\n",
      "Min-Max:          (1900.0, 2010.0)\n",
      "Mode:             (1985.0, 65)\n"
     ]
    }
   ],
   "source": [
    "# Fill cột với phương pháp median\n",
    "!python3 honoda.py -o out.csv fillna --method median --column GarageYrBlt ../house-prices.csv\n",
    "# In lại thông số cột sau khi fill\n",
    "!python3 honoda.py stats --describe GarageYrBlt out.csv"
   ]
  },
  {
   "cell_type": "markdown",
   "id": "b0311d58-335c-4fc3-9d11-4596fbc3b6b8",
   "metadata": {},
   "source": [
    "### Yêu cầu 3: Điền giá trị thiếu với thuộc tính categorical (phương pháp mode)\n",
    "Tương tự như trên, nhưng lần này ta thực hiện với cột `GarageType`. Cột này có kiểu dữ liệu `str`."
   ]
  },
  {
   "cell_type": "code",
   "execution_count": 15,
   "id": "c503e613-4b6c-4802-b023-a34c2df3faa2",
   "metadata": {},
   "outputs": [
    {
     "name": "stdout",
     "output_type": "stream",
     "text": [
      "Type:             <class 'str'>\n",
      "Length:           1000\n",
      "Null values:      60\n",
      "Label:            GarageType\n",
      "Sum:              None\n",
      "Mean:             None\n",
      "Median:           None\n",
      "Std:              None\n",
      "Min-Max:          None\n",
      "Mode:             ('Attchd', 572)\n"
     ]
    }
   ],
   "source": [
    "# In ra thông số cột trước khi fill\n",
    "!python3 honoda.py stats --describe GarageType ../house-prices.csv"
   ]
  },
  {
   "cell_type": "code",
   "execution_count": 16,
   "id": "5300cc6c-123f-4990-beab-44317fe034e1",
   "metadata": {},
   "outputs": [
    {
     "name": "stdout",
     "output_type": "stream",
     "text": [
      "Forcing method \"mode\" for categorical column\n",
      "Type:             <class 'str'>\n",
      "Length:           1000\n",
      "Null values:      0\n",
      "Label:            GarageType\n",
      "Sum:              None\n",
      "Mean:             None\n",
      "Median:           None\n",
      "Std:              None\n",
      "Min-Max:          None\n",
      "Mode:             ('Attchd', 632)\n"
     ]
    }
   ],
   "source": [
    "# Fill cột với phương pháp mode\n",
    "!python3 honoda.py -o out.csv fillna --column=GarageType --method=mode ../house-prices.csv\n",
    "# In lại thông số cột sau khi fill\n",
    "!python3 honoda.py stats --describe GarageType out.csv"
   ]
  },
  {
   "cell_type": "markdown",
   "id": "fb67ae54-b0c2-4fd8-8135-a770f4cc8b71",
   "metadata": {},
   "source": [
    "Nếu để ý, ta sẽ thấy được trước khi fill, mode của cột này là `Attchd`, và có tần suất xuất hiện là 572. Cột có 60 giá trị null. Sau khi fill, mode vẫn giữ nguyên, và tần suất xuất hiện tăng lên một lượng đúng bằng 60 (572 + 60 = 632). "
   ]
  },
  {
   "cell_type": "markdown",
   "id": "081e30a7-6792-4c5b-b87a-ff267ac201f9",
   "metadata": {},
   "source": [
    "Thử lại với cột `FireplaceQu`, ta cũng quan sát được điều tương tự:"
   ]
  },
  {
   "cell_type": "code",
   "execution_count": 17,
   "id": "48ead8ca-7b00-49f3-bc9b-45d5101fe2f2",
   "metadata": {},
   "outputs": [
    {
     "name": "stdout",
     "output_type": "stream",
     "text": [
      "Type:             <class 'str'>\n",
      "Length:           1000\n",
      "Null values:      501\n",
      "Label:            FireplaceQu\n",
      "Sum:              None\n",
      "Mean:             None\n",
      "Median:           None\n",
      "Std:              None\n",
      "Min-Max:          None\n",
      "Mode:             ('Gd', 242)\n"
     ]
    }
   ],
   "source": [
    "# In ra thông số cột trước khi fill\n",
    "!python3 honoda.py stats --describe FireplaceQu ../house-prices.csv"
   ]
  },
  {
   "cell_type": "code",
   "execution_count": 18,
   "id": "64d8160e-3e38-45d5-8dab-f39eb8153f59",
   "metadata": {},
   "outputs": [
    {
     "name": "stdout",
     "output_type": "stream",
     "text": [
      "Forcing method \"mode\" for categorical column\n",
      "Type:             <class 'str'>\n",
      "Length:           1000\n",
      "Null values:      0\n",
      "Label:            FireplaceQu\n",
      "Sum:              None\n",
      "Mean:             None\n",
      "Median:           None\n",
      "Std:              None\n",
      "Min-Max:          None\n",
      "Mode:             ('Gd', 743)\n"
     ]
    }
   ],
   "source": [
    "# Fill cột với phương pháp mode\n",
    "!python3 honoda.py -o out.csv fillna --column=FireplaceQu --method=mode ../house-prices.csv\n",
    "# In lại thông số cột sau khi fill\n",
    "!python3 honoda.py stats --describe FireplaceQu out.csv"
   ]
  },
  {
   "cell_type": "markdown",
   "id": "4298f87a-8660-4d34-808d-e772d42f1923",
   "metadata": {},
   "source": [
    "### Yêu cầu 4: Xóa các cột bị thiếu với ngưỡng tỉ lệ thiếu cho trước"
   ]
  },
  {
   "cell_type": "markdown",
   "id": "8260de15-5e08-4555-9815-babd55c9f60b",
   "metadata": {},
   "source": [
    "Giả sử ta chọn `threshold = 0.6`. Ta nhận thấy bảng có 1000 dòng, mà $0.6 \\times 1000 = 600$, nghĩa là những cột nào có nhiều hơn hoặc bằng 600 giá trị null sẽ bị \"bay màu\".  \n",
    "Dựa vào bảng thống kê ở phần *Đếm số hàng bị thiếu dữ liệu*, ta thấy các cột `Alley`, `Fence`, `PoolQC`, `MiscFeature` sẽ bị drop nếu ta chọn threshold này."
   ]
  },
  {
   "cell_type": "code",
   "execution_count": 19,
   "id": "dcf8968e-9141-400f-865b-1f1f76324a31",
   "metadata": {},
   "outputs": [
    {
     "name": "stdout",
     "output_type": "stream",
     "text": [
      "Deleted \"Alley\"; Null = 94.1%\n",
      "Deleted \"PoolQC\"; Null = 100.0%\n",
      "Deleted \"Fence\"; Null = 81.5%\n",
      "Deleted \"MiscFeature\"; Null = 96.3%\n"
     ]
    }
   ],
   "source": [
    "!python3 honoda.py -o out.csv dropna --axis=1 --threshold=0.6 ../house-prices.csv"
   ]
  },
  {
   "cell_type": "markdown",
   "id": "c08d3d56-1d1c-489c-8778-f4ed815b3f37",
   "metadata": {},
   "source": [
    "Đúng như dự đoán, các cột nêu trên đã bị xóa. Để chắc chắn hơn, bây giờ ta thử đọc file output lên để xem các cột đó còn không."
   ]
  },
  {
   "cell_type": "code",
   "execution_count": 20,
   "id": "520d8e44-e2af-4ec5-8b66-d2a8ed4443f1",
   "metadata": {},
   "outputs": [
    {
     "name": "stdout",
     "output_type": "stream",
     "text": [
      "LotFrontage   \t 173\n",
      "MasVnrType    \t 593\n",
      "MasVnrArea    \t 10\n",
      "BsmtQual      \t 27\n",
      "BsmtCond      \t 27\n",
      "BsmtExposure  \t 28\n",
      "BsmtFinType1  \t 27\n",
      "BsmtFinType2  \t 29\n",
      "FireplaceQu   \t 501\n",
      "GarageType    \t 60\n",
      "GarageYrBlt   \t 60\n",
      "GarageFinish  \t 60\n",
      "GarageQual    \t 60\n",
      "GarageCond    \t 60\n",
      "\n",
      "Total null values: 1715\n"
     ]
    }
   ],
   "source": [
    "!python3 honoda.py stats -lnc out.csv"
   ]
  },
  {
   "cell_type": "markdown",
   "id": "5a04e01b-feeb-457e-9561-476c5b4615de",
   "metadata": {},
   "source": [
    "Thử lại với `threshold = 0.5`. Ta có $0.5 \\times 1000 = 500$, nên tương tự, các cột `Alley`, `Fence`, `PoolQC`, `MiscFeature`, `FireplaceQu`, `MasVnrType` sẽ bị xóa."
   ]
  },
  {
   "cell_type": "code",
   "execution_count": 21,
   "id": "bae75338-59d2-4675-ac15-86a66886dbae",
   "metadata": {},
   "outputs": [
    {
     "name": "stdout",
     "output_type": "stream",
     "text": [
      "Deleted \"Alley\"; Null = 94.1%\n",
      "Deleted \"MasVnrType\"; Null = 59.3%\n",
      "Deleted \"FireplaceQu\"; Null = 50.1%\n",
      "Deleted \"PoolQC\"; Null = 100.0%\n",
      "Deleted \"Fence\"; Null = 81.5%\n",
      "Deleted \"MiscFeature\"; Null = 96.3%\n"
     ]
    }
   ],
   "source": [
    "!python3 honoda.py -o out.csv dropna --axis=1 --threshold=0.5 ../house-prices.csv"
   ]
  },
  {
   "cell_type": "markdown",
   "id": "d1e3cd36-d504-46ff-bcf3-20c71295f7c7",
   "metadata": {},
   "source": [
    "### Yêu cầu 5: Xóa các hàng bị thiếu với ngưỡng tỉ lệ thiếu cho trước\n",
    "In ra lại các hàng bị thiếu dữ liệu"
   ]
  },
  {
   "cell_type": "code",
   "execution_count": 22,
   "id": "1a08039f-efa0-427d-96e2-4b2e41178393",
   "metadata": {},
   "outputs": [
    {
     "name": "stdout",
     "output_type": "stream",
     "text": [
      "Number of null rows in dataframe: 1000\n"
     ]
    }
   ],
   "source": [
    "!python3 honoda.py stats -cnr ../house-prices.csv"
   ]
  },
  {
   "cell_type": "markdown",
   "id": "30fbfdc8-4695-4b91-a28c-7640953635cc",
   "metadata": {},
   "source": [
    "Ta thử drop các hàng bị thiếu dữ liệu với threshold = 0.07. Bảng có 81 cột, vậy nếu hàng nào có $ceil(81 \\times 0.07) = 6$ cột bị thiếu sẽ bị drop."
   ]
  },
  {
   "cell_type": "code",
   "execution_count": 48,
   "id": "79dfe001-08e4-40e0-a996-8b27d9c00e86",
   "metadata": {},
   "outputs": [],
   "source": [
    "!python3 honoda.py -o out.csv dropna --axis=0 --threshold=0.07 ../house-prices.csv"
   ]
  },
  {
   "cell_type": "code",
   "execution_count": 24,
   "id": "6312b47a-cd8d-4dc4-b463-fd71c64b6ed2",
   "metadata": {},
   "outputs": [
    {
     "name": "stdout",
     "output_type": "stream",
     "text": [
      "Number of null rows in dataframe: 254\n"
     ]
    }
   ],
   "source": [
    "!python3 honoda.py stats -cnr out.csv"
   ]
  },
  {
   "cell_type": "markdown",
   "id": "c0471c70-8bb6-4d43-80ce-695f0de269fa",
   "metadata": {},
   "source": [
    "Thử sử dụng `pandas` để kiểm chứng"
   ]
  },
  {
   "cell_type": "code",
   "execution_count": 25,
   "id": "e0e9b3c2-31be-4b10-bbc8-881a89ef49fc",
   "metadata": {},
   "outputs": [
    {
     "name": "stdout",
     "output_type": "stream",
     "text": [
      "Before: 1000\n",
      "After: 656\n"
     ]
    }
   ],
   "source": [
    "print('Before:', len(df) -  len(df.dropna()))\n",
    "df1 = df.dropna(thresh=81 * (1 - 0.07))\n",
    "print('After:', len(df1) -  len(df1.dropna()))"
   ]
  },
  {
   "cell_type": "markdown",
   "id": "e8e89f72-b81c-44af-9b8e-b10cb25e4b23",
   "metadata": {},
   "source": [
    "Thử lại với với threshold = 0.05. Bảng có 81 cột, vậy nếu hàng nào có $ceil(81 \\times 0.05) = 5$ cột bị thiếu sẽ bị drop."
   ]
  },
  {
   "cell_type": "code",
   "execution_count": 49,
   "id": "19fe90ab-692a-4d07-be7b-5c6aaa58ea33",
   "metadata": {},
   "outputs": [
    {
     "name": "stdout",
     "output_type": "stream",
     "text": [
      "Before drop:\n",
      "Number of null rows in dataframe: 1000\n",
      "After drop:\n",
      "Number of null rows in dataframe: 307\n"
     ]
    }
   ],
   "source": [
    "# Số hàng ban đầu\n",
    "print('Before drop:')\n",
    "!python3 honoda.py stats -cnr ../house-prices.csv\n",
    "!python3 honoda.py -o out.csv dropna --axis=0 --threshold=0.05 ../house-prices.csv\n",
    "print('After drop:')\n",
    "!python3 honoda.py stats -cnr out.csv"
   ]
  },
  {
   "cell_type": "markdown",
   "id": "6c224745-d9bb-4422-a082-0520c3dd5ebc",
   "metadata": {},
   "source": [
    "Thử sử dụng `pandas` để kiểm chứng"
   ]
  },
  {
   "cell_type": "code",
   "execution_count": 27,
   "id": "8c66466e-0ee3-4502-94cb-d6b750be4b81",
   "metadata": {},
   "outputs": [
    {
     "name": "stdout",
     "output_type": "stream",
     "text": [
      "Before: 1000\n",
      "After: 307\n"
     ]
    }
   ],
   "source": [
    "print('Before:', len(df) -  len(df.dropna()))\n",
    "df1 = df.dropna(thresh=81 * (1 - 0.05))\n",
    "print('After:', len(df1) -  len(df1.dropna()))"
   ]
  },
  {
   "cell_type": "markdown",
   "id": "c54af3a4-a80f-4152-83e7-5366554a7718",
   "metadata": {
    "tags": []
   },
   "source": [
    "### Yêu cầu 6: Xóa các mẫu bị trùng lặp\n",
    "Ta in ra thông tin của bảng trước khi xóa"
   ]
  },
  {
   "cell_type": "code",
   "execution_count": 28,
   "id": "5e8e845e-39ab-4bcb-b09a-4e848336db88",
   "metadata": {},
   "outputs": [
    {
     "name": "stdout",
     "output_type": "stream",
     "text": [
      "(1000, 81)\n"
     ]
    }
   ],
   "source": [
    "!python3 honoda.py stats --shape ../house-prices.csv"
   ]
  },
  {
   "cell_type": "code",
   "execution_count": 29,
   "id": "eb7a8b72-7b5f-4c24-bc68-eb430dbd5926",
   "metadata": {},
   "outputs": [],
   "source": [
    "!python3 honoda.py -o out.csv dropdup ../house-prices.csv"
   ]
  },
  {
   "cell_type": "code",
   "execution_count": 30,
   "id": "7d1b37c4-9e7f-4d42-be1d-dafa698874b0",
   "metadata": {},
   "outputs": [
    {
     "name": "stdout",
     "output_type": "stream",
     "text": [
      "(716, 81)\n"
     ]
    }
   ],
   "source": [
    "# In ra thông tin sau khi xóa\n",
    "!python3 honoda.py stats --shape out.csv"
   ]
  },
  {
   "cell_type": "markdown",
   "id": "fd422f6e-3a2e-4a12-ae3b-274a8d031208",
   "metadata": {},
   "source": [
    "Vậy có 284 mẫu trùng lặp đã bị xóa.  \n",
    "Ta thử kiểm tra lại bằng pandas:"
   ]
  },
  {
   "cell_type": "code",
   "execution_count": 31,
   "id": "5e1915ac-052f-4298-80eb-dbe6f8fb8099",
   "metadata": {},
   "outputs": [
    {
     "name": "stdout",
     "output_type": "stream",
     "text": [
      "Before: (1000, 81)\n",
      "After: (716, 81)\n"
     ]
    }
   ],
   "source": [
    "print('Before:', df.shape)\n",
    "df1 = df.drop_duplicates()\n",
    "print('After:', df1.shape)"
   ]
  },
  {
   "cell_type": "markdown",
   "id": "cb8e3e3a-2381-4134-bfed-963aef4e32ea",
   "metadata": {},
   "source": [
    "\\newcommand{\\xx}{\\mathbf{x}}\n",
    "### Yêu cầu 7: Chuẩn hóa một cột (phương pháp z-score)\n",
    "Gọi vector cần chuẩn hóa là $\\xx$. Công thức để chuẩn hóa theo phương pháp z-score:\n",
    "\n",
    "$$\n",
    "\\xx = \\frac{\\xx - \\mu}{\\sigma}\n",
    "$$\n",
    "\n",
    "Trong phần này em sẽ lấy cột `GarageYrBlt` để thử."
   ]
  },
  {
   "cell_type": "code",
   "execution_count": 32,
   "id": "0a1eac6d-ddb3-4b33-b3ba-f4e3892b9645",
   "metadata": {},
   "outputs": [
    {
     "name": "stdout",
     "output_type": "stream",
     "text": [
      "Type:             <class 'float'>\n",
      "Length:           1000\n",
      "Null values:      60\n",
      "Label:            GarageYrBlt\n",
      "Sum:              1859474.0\n",
      "Mean:             1978.1638\n",
      "Median:           1985.0\n",
      "Std:              25.2207\n",
      "Min-Max:          (1900.0, 2010.0)\n",
      "Mode:             (2006.0, 42)\n"
     ]
    }
   ],
   "source": [
    "# In ra thông tin cột GarageYrBlt\n",
    "!python3 honoda.py stats --describe GarageYrBlt ../house-prices.csv"
   ]
  },
  {
   "cell_type": "code",
   "execution_count": 33,
   "id": "615f33c0-a5a5-4e10-a9f3-cdbf74a20438",
   "metadata": {},
   "outputs": [],
   "source": [
    "# Chuẩn hóa bằng z-score \n",
    "!python3 honoda.py -o out.csv normalize --method zscore --column GarageYrBlt ../house-prices.csv"
   ]
  },
  {
   "cell_type": "code",
   "execution_count": 34,
   "id": "fa99bed8-966e-4892-a1e4-8716e18687fe",
   "metadata": {},
   "outputs": [
    {
     "name": "stdout",
     "output_type": "stream",
     "text": [
      "Type:             <class 'float'>\n",
      "Length:           1000\n",
      "Null values:      60\n",
      "Label:            GarageYrBlt\n",
      "Sum:              -0.0\n",
      "Mean:             -0.0\n",
      "Median:           0.2711\n",
      "Std:              1.0\n",
      "Min-Max:          (-3.0991932928723527, 1.2623031069833908)\n",
      "Mode:             (1.1037032378977272, 42)\n"
     ]
    }
   ],
   "source": [
    "# Đọc lại thông tin của cột sau khi được chuẩn hóa\n",
    "!python3 honoda.py stats --describe GarageYrBlt out.csv"
   ]
  },
  {
   "cell_type": "markdown",
   "id": "d4012195-6fc2-41cc-9dd4-e364cb6b0270",
   "metadata": {},
   "source": [
    "Vậy sau khi chuẩn hóa bằng phương pháp z-score, độ lệnh chuẩn và trung bình của cột đã được đưa về giá trị $\\mu=0, \\sigma=1$."
   ]
  },
  {
   "cell_type": "markdown",
   "id": "8c935cf9-3942-4282-92bc-92f5e7de26d1",
   "metadata": {},
   "source": [
    "Ta thử lại với cột `TotRmsAbvGrd`:"
   ]
  },
  {
   "cell_type": "code",
   "execution_count": 35,
   "id": "64aa72f0-9c36-4796-b255-dad0873f832f",
   "metadata": {},
   "outputs": [
    {
     "name": "stdout",
     "output_type": "stream",
     "text": [
      "Before:\n",
      "Type:             <class 'int'>\n",
      "Length:           1000\n",
      "Null values:      0\n",
      "Label:            TotRmsAbvGrd\n",
      "Sum:              6505\n",
      "Mean:             6.505\n",
      "Median:           6\n",
      "Std:              1.6426\n",
      "Min-Max:          (2, 12)\n",
      "Mode:             (6, 289)\n",
      "\n",
      "After:\n",
      "Type:             <class 'float'>\n",
      "Length:           1000\n",
      "Null values:      0\n",
      "Label:            TotRmsAbvGrd\n",
      "Sum:              0.0\n",
      "Mean:             0.0\n",
      "Median:           -0.3074\n",
      "Std:              1.0\n",
      "Min-Max:          (-2.7426843901867493, 3.3454052661656353)\n",
      "Mode:             (-0.3074485276457954, 289)\n"
     ]
    }
   ],
   "source": [
    "# In ra thông tin cột TotRmsAbvGrd\n",
    "print('Before:')\n",
    "!python3 honoda.py stats --describe TotRmsAbvGrd ../house-prices.csv\n",
    "# Chuẩn hóa bằng z-score \n",
    "!python3 honoda.py -o out.csv normalize --method zscore --column TotRmsAbvGrd ../house-prices.csv\n",
    "# Đọc lại thông tin của cột sau khi được chuẩn hóa\n",
    "print('\\nAfter:')\n",
    "!python3 honoda.py stats --describe TotRmsAbvGrd out.csv"
   ]
  },
  {
   "cell_type": "markdown",
   "id": "b657d98d-ae9c-425e-8953-91f97dc77d82",
   "metadata": {},
   "source": [
    "Ta cũng quan sát được sau khi chuẩn hóa, $\\mu=0$ và $\\sigma=1$."
   ]
  },
  {
   "cell_type": "markdown",
   "id": "c59fa670-f81a-4589-8001-4bf9414ba778",
   "metadata": {},
   "source": [
    "### Yêu cầu 7: Chuẩn hóa một cột (phương pháp min-max)\n",
    "Để chuẩn hóa vector $\\xx$ theo phương pháp min-max, ta sử dụng công thức:\n",
    "$$ \n",
    "\\xx = \\frac{\\xx - min(\\xx)}{max(\\xx) - min(\\xx)}\n",
    "$$\n",
    "\n",
    "Trong phần này em sẽ lấy cột `SalePrice` để thử."
   ]
  },
  {
   "cell_type": "code",
   "execution_count": 36,
   "id": "b842238c-3844-4572-b379-88fa1496cfdd",
   "metadata": {},
   "outputs": [
    {
     "name": "stdout",
     "output_type": "stream",
     "text": [
      "Type:             <class 'int'>\n",
      "Length:           1000\n",
      "Null values:      0\n",
      "Label:            SalePrice\n",
      "Sum:              178116040\n",
      "Mean:             178116.04\n",
      "Median:           159000\n",
      "Std:              80133.889\n",
      "Min-Max:          (35311, 611657)\n",
      "Mode:             (135000, 16)\n"
     ]
    }
   ],
   "source": [
    "# In ra thông tin cột SalePrice\n",
    "!python3 honoda.py stats --describe SalePrice ../house-prices.csv"
   ]
  },
  {
   "cell_type": "code",
   "execution_count": 37,
   "id": "fc671116-6196-474d-8693-a5b17523a0c6",
   "metadata": {},
   "outputs": [],
   "source": [
    "# Chuẩn hóa bằng min-max\n",
    "!python3 honoda.py -o out.csv normalize --method minmax --column SalePrice ../house-prices.csv"
   ]
  },
  {
   "cell_type": "code",
   "execution_count": 38,
   "id": "6b4414d8-1cde-414b-a7f0-54a44f23b3d1",
   "metadata": {
    "tags": []
   },
   "outputs": [
    {
     "name": "stdout",
     "output_type": "stream",
     "text": [
      "Type:             <class 'float'>\n",
      "Length:           1000\n",
      "Null values:      0\n",
      "Label:            SalePrice\n",
      "Sum:              247.7766\n",
      "Mean:             0.2478\n",
      "Median:           0.2146\n",
      "Std:              0.139\n",
      "Min-Max:          (0.0, 1.0)\n",
      "Mode:             (0.17296728007134604, 16)\n"
     ]
    }
   ],
   "source": [
    "# Đọc lại thông tin của cột sau khi được chuẩn hóa\n",
    "!python3 honoda.py stats --describe SalePrice out.csv"
   ]
  },
  {
   "cell_type": "markdown",
   "id": "b960081d-2746-4413-bc13-cd7740a308d8",
   "metadata": {},
   "source": [
    "Vậy sau khi chuẩn hóa bằng phương pháp min-max, miền giá trị của cột đã được đưa về $(0, 1)$ (có thể nhìn thấy qua giá trị của trường `Min-Max`)."
   ]
  },
  {
   "cell_type": "markdown",
   "id": "051e2ef4-f64e-466d-a603-67076ce65218",
   "metadata": {},
   "source": [
    "Ta thử lại với cột `OpenPorchSF`:"
   ]
  },
  {
   "cell_type": "code",
   "execution_count": 39,
   "id": "52d41fc7-3de5-449e-a8ba-0c4c4016b389",
   "metadata": {},
   "outputs": [
    {
     "name": "stdout",
     "output_type": "stream",
     "text": [
      "Before:\n",
      "Type:             <class 'int'>\n",
      "Length:           1000\n",
      "Null values:      0\n",
      "Label:            OpenPorchSF\n",
      "Sum:              44870\n",
      "Mean:             44.87\n",
      "Median:           20\n",
      "Std:              66.3318\n",
      "Min-Max:          (0, 547)\n",
      "Mode:             (0, 476)\n",
      "\n",
      "After:\n",
      "Type:             <class 'float'>\n",
      "Length:           1000\n",
      "Null values:      0\n",
      "Label:            OpenPorchSF\n",
      "Sum:              82.0293\n",
      "Mean:             0.082\n",
      "Median:           0.0366\n",
      "Std:              0.1213\n",
      "Min-Max:          (0.0, 1.0)\n",
      "Mode:             (0.0, 476)\n"
     ]
    }
   ],
   "source": [
    "# In ra thông tin cột PoolArea\n",
    "print('Before:')\n",
    "!python3 honoda.py stats --describe OpenPorchSF ../house-prices.csv\n",
    "# Chuẩn hóa bằng min-max\n",
    "!python3 honoda.py -o out.csv normalize --method minmax --column OpenPorchSF ../house-prices.csv\n",
    "# Đọc lại thông tin của cột sau khi được chuẩn hóa\n",
    "print('\\nAfter:')\n",
    "!python3 honoda.py stats --describe OpenPorchSF out.csv"
   ]
  },
  {
   "cell_type": "markdown",
   "id": "a83a8f69-c644-4caa-88b3-72ac5f556c2d",
   "metadata": {},
   "source": [
    "Ta cũng quan sát được dữ liệu của cột đã được đưa về khoảng $(0, 1)$."
   ]
  },
  {
   "cell_type": "markdown",
   "id": "ea1dd126-b66a-47ad-9e19-c8cfe310c972",
   "metadata": {},
   "source": [
    "### Yêu cầu 8: Tính giá trị biểu thức thuộc tính\n",
    "\n",
    "Ở phần này, em đã cài đặt thuật toán shunting yard (biến đổi về suffix expression rồi evaluate) nên biểu thức có quy định ngặt nghèo một chút xíu (để dễ code hơn). Ngoài ra em cũng không check syntax error (vì trong đề có nói *bạn không cần phải kiểm tra tính hợp lệ của dữ liệu*). "
   ]
  },
  {
   "cell_type": "markdown",
   "id": "d1b677fd-62b9-4498-a484-955abcb184b5",
   "metadata": {},
   "source": [
    "- Các toán tử được phép sử dụng: +, -, *, /. Được phép sử dụng dấu ngoặc đơn `()`.\n",
    "- Các token phải cách nhau bằng khoảng trắng. Vd: `LotFrontage + YrSold / 2`.\n",
    "- Nếu thực hiện phép tính giữa cột và số thực: số phải đứng sau cột. Vd: `YrSold / 2`, `LotFrontage + 2.5`."
   ]
  },
  {
   "cell_type": "markdown",
   "id": "973ec768-12e9-4f7c-ac35-2ed1bc0b0644",
   "metadata": {},
   "source": [
    " \n",
    "\n",
    "**Giả sử** ta muốn tính thuế VAT (10%) của một $m^2$ đất khi mua căn nhà có giá trị bao nhiêu (giả sử cột `SalePrices` chưa có VAT), ta cần tính giá trị của biểu thức:   \n",
    "\n",
    "$$\n",
    "\\frac{SalePrice}{LotArea} \\times 0.1\n",
    "$$\n",
    "\n",
    "Công thức trên chỉ là giả sử vì em chưa mua nhà bao giờ nên không biết có chính xác không `=)`."
   ]
  },
  {
   "cell_type": "code",
   "execution_count": 40,
   "id": "cc8615d8",
   "metadata": {},
   "outputs": [],
   "source": [
    "!python3 honoda.py -o out.csv evaluate \"( SalePrice / LotArea ) * 0.1\" ../house-prices.csv"
   ]
  },
  {
   "cell_type": "code",
   "execution_count": 41,
   "id": "2889aa81",
   "metadata": {},
   "outputs": [
    {
     "name": "stdout",
     "output_type": "stream",
     "text": [
      "out\n",
      "2.5213524215656413\n",
      "1.0343426132899818\n",
      "2.0\n",
      "1.4462809917355373\n",
      "1.128632033939006\n"
     ]
    }
   ],
   "source": [
    "# Liệt kê ra 5 dòng đầu của cột kết quả\n",
    "!head -n 6 out.csv"
   ]
  },
  {
   "cell_type": "markdown",
   "id": "b8515878-65ff-4355-a4e2-efb085d0d745",
   "metadata": {},
   "source": [
    "Thử in ra các tham số thống kê của cột mới này"
   ]
  },
  {
   "cell_type": "code",
   "execution_count": 42,
   "id": "324ca567-b23e-4b3c-b0cb-2b2c264e99fc",
   "metadata": {},
   "outputs": [
    {
     "name": "stdout",
     "output_type": "stream",
     "text": [
      "Type:             <class 'float'>\n",
      "Length:           1000\n",
      "Null values:      0\n",
      "Label:            out\n",
      "Sum:              2127.1049\n",
      "Mean:             2.1271\n",
      "Median:           1.7877\n",
      "Std:              1.2745\n",
      "Min-Max:          (0.17422007479848545, 8.384506376948513)\n",
      "Mode:             (1.581798483206934, 4)\n"
     ]
    }
   ],
   "source": [
    "!python3 honoda.py stats --describe out out.csv"
   ]
  },
  {
   "cell_type": "markdown",
   "id": "7a929315-c67c-4f73-8567-2b99fb378b24",
   "metadata": {},
   "source": [
    "Thử kiểm chứng lại kết quả bằng `pandas`:"
   ]
  },
  {
   "cell_type": "code",
   "execution_count": 43,
   "id": "4b416519-1fd3-40ff-a9c2-a20409f35548",
   "metadata": {},
   "outputs": [
    {
     "data": {
      "text/plain": [
       "0    2.521352\n",
       "1    1.034343\n",
       "2    2.000000\n",
       "3    1.446281\n",
       "4    1.128632\n",
       "dtype: float64"
      ]
     },
     "execution_count": 43,
     "metadata": {},
     "output_type": "execute_result"
    }
   ],
   "source": [
    "result = (df['SalePrice'] / df['LotArea']) * 0.1\n",
    "result.head(5)"
   ]
  },
  {
   "cell_type": "code",
   "execution_count": 44,
   "id": "f5596cd1-63a4-4990-96b8-4342dfaaa9fb",
   "metadata": {},
   "outputs": [
    {
     "data": {
      "text/plain": [
       "count    1000.000000\n",
       "mean        2.127105\n",
       "std         1.275179\n",
       "min         0.174220\n",
       "25%         1.377803\n",
       "50%         1.787686\n",
       "75%         2.458818\n",
       "max         8.384506\n",
       "dtype: float64"
      ]
     },
     "execution_count": 44,
     "metadata": {},
     "output_type": "execute_result"
    }
   ],
   "source": [
    "result.describe()"
   ]
  },
  {
   "cell_type": "markdown",
   "id": "ef4fa052-0a07-4b52-a70f-5ba6bf501bf7",
   "metadata": {},
   "source": [
    "Quan sát 5 dòng đầu và 2 thông số `mean`, `std`, ta có thể thấy được các kết quả hoàn toàn trùng khớp với nhau."
   ]
  },
  {
   "cell_type": "markdown",
   "id": "f02d5ff1-05b4-4d38-b953-2e5b3fa319e1",
   "metadata": {},
   "source": [
    "Thử lại với một biểu thức khác. Giả sử lần này em muốn tóm tắt thông tin của ngói nhà nên em muốn join 2 cột **text** là `RoofStyle` và `RoofMatl`. Lý do cái này hoạt động được là vì ở bên dưới em implement bằng operator overloading nên hễ kiểu dữ liệu của 2 cột (trong Python) có hỗ trợ các toán tử đã nêu thì đều có thể thực hiện được phép tính."
   ]
  },
  {
   "cell_type": "code",
   "execution_count": 45,
   "id": "f1914d6e-e6f7-499f-9453-363e06c7573d",
   "metadata": {},
   "outputs": [],
   "source": [
    "!python3 honoda.py -o out.csv evaluate \"RoofStyle + RoofMatl \" ../house-prices.csv"
   ]
  },
  {
   "cell_type": "code",
   "execution_count": 46,
   "id": "72a74d37-c046-4237-93cc-28bab26f598e",
   "metadata": {},
   "outputs": [
    {
     "name": "stdout",
     "output_type": "stream",
     "text": [
      "out\n",
      "HipCompShg\n",
      "GableCompShg\n",
      "GableCompShg\n",
      "GableCompShg\n",
      "GableCompShg\n",
      "GableCompShg\n",
      "GableCompShg\n",
      "HipCompShg\n",
      "GableCompShg\n",
      "GableCompShg\n"
     ]
    }
   ],
   "source": [
    "!head -n 11 out.csv"
   ]
  },
  {
   "cell_type": "markdown",
   "id": "aa6ad393-392a-40d0-b288-64a4c96be6aa",
   "metadata": {},
   "source": [
    "Kiểm tra lại bằng `pandas`:"
   ]
  },
  {
   "cell_type": "code",
   "execution_count": 47,
   "id": "941e1d04-6fce-4188-9219-69e90afc64ce",
   "metadata": {},
   "outputs": [
    {
     "data": {
      "text/plain": [
       "0      HipCompShg\n",
       "1    GableCompShg\n",
       "2    GableCompShg\n",
       "3    GableCompShg\n",
       "4    GableCompShg\n",
       "5    GableCompShg\n",
       "6    GableCompShg\n",
       "7      HipCompShg\n",
       "8    GableCompShg\n",
       "9    GableCompShg\n",
       "dtype: object"
      ]
     },
     "execution_count": 47,
     "metadata": {},
     "output_type": "execute_result"
    }
   ],
   "source": [
    "(df['RoofStyle'] + df['RoofMatl']).head(10)"
   ]
  },
  {
   "cell_type": "markdown",
   "id": "524f7939-5988-450c-a987-6eb7d175c73f",
   "metadata": {},
   "source": [
    "Ta cũng có thể thấy được 2 kết quả hoàn toàn trùng khớp với nhau."
   ]
  },
  {
   "cell_type": "markdown",
   "metadata": {},
   "source": [
    "# Tài liệu tham khảo \n",
    "1. Slide bài giảng lý thuyết.\n",
    "2. Pandas documentation: \\url{https://pandas.pydata.org/docs/}\n",
    "3. Python documentation -- `argparse`: \\url{https://docs.python.org/3/library/argparse.html}\n",
    "4. Python documentation -- `csv`: \\url{https://docs.python.org/3/library/csv.html}\n",
    "5. GeeksforGeeks: Infix to Postfix conversion: \\url{https://www.geeksforgeeks.org/stack-set-2-infix-to-postfix/}"
   ]
  }
 ],
 "metadata": {
  "authors": [
   "19120615 Hùng Ngọc Phát"
  ],
  "interpreter": {
   "hash": "3d597f4c481aa0f25dceb95d2a0067e73c0966dcbd003d741d821a7208527ecf"
  },
  "kernelspec": {
   "display_name": "Python 3 (ipykernel)",
   "language": "python",
   "name": "python3"
  },
  "language_info": {
   "codemirror_mode": {
    "name": "ipython",
    "version": 3
   },
   "file_extension": ".py",
   "mimetype": "text/x-python",
   "name": "python",
   "nbconvert_exporter": "python",
   "pygments_lexer": "ipython3",
   "version": "3.9.7"
  },
  "title": "Báo cáo Lab01 - Khai thác dữ liệu và ứng dụng"
 },
 "nbformat": 4,
 "nbformat_minor": 5
}
