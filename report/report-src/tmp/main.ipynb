{
  "cells": [
    {
      "cell_type": "markdown",
      "metadata": {
        "tags": []
      },
      "source": [
        "# Gi\u1edbi thi\u1ec7u \n",
        "\n",
        "Nh\u00f3m c\u00f3 2 th\u00e0nh vi\u00ean:\n",
        "\n",
        "- L\u00ea Minh Ph\u1ee5c (19120621): L\u00e0m ph\u1ea7n Weka.\n",
        "- H\u00f9ng Ng\u1ecdc Ph\u00e1t (19120615): L\u00e0m ph\u1ea7n c\u00e0i \u0111\u1eb7t ti\u1ec1n x\u1eed l\u00fd d\u1eef li\u1ec7u.\n",
        "\n",
        "| C\u00e2u h\u1ecfi                           | T\u1ec9 l\u1ec7 ho\u00e0n th\u00e0nh |\n",
        "|-----------------------------------|------------------|\n",
        "| C\u00e0i \u0111\u1eb7t Weka                      | 100%             |\n",
        "| \u0110\u1ecdc d\u1eef li\u1ec7u v\u00e0o Weka              | 100%             | \n",
        "| Kh\u00e1m ph\u00e1 t\u1eadp d\u1eef li\u1ec7u Weather      | 100%             | \n",
        "| Kh\u00e1m ph\u00e1 t\u00e2p d\u1eef li\u1ec7u t\u00edn d\u1ee5ng \u0110\u1ee9c | 95%              | \n",
        "| C\u00e0i \u0111\u1eb7t ti\u00ean x\u1eed l\u00fd d\u1eef li\u1ec7u        |  100%            |      \n",
        "\n",
        "V\u1edbi y\u00eau c\u1ea7u \"li\u1ec7t k\u00ea v\u00e0 gi\u1ea3i th\u00edch nh\u1eefng l\u1ef1a ch\u1ecdn c\u1ee7a Weka \u0111\u1ec3 ch\u1ecdn l\u1ecdc thu\u1ed9c t\u00ednh\" th\u00ec do c\u00f3 qu\u00e1 nhi\u1ec1u ch\u1ee9c n\u0103ng v\u00e0 th\u1eddi gian gi\u1edbi h\u1ea1n n\u00ean t\u1ee5i em kh\u00f4ng li\u1ec7t k\u00ea \u0111\u01b0\u1ee3c t\u1ea5t c\u1ea3."
      ]
    },
    {
      "cell_type": "markdown",
      "metadata": {},
      "source": [
        "# L\u00e0m quen v\u1edbi Weka"
      ]
    },
    {
      "cell_type": "markdown",
      "metadata": {},
      "source": [
        "## Y\u00eau c\u1ea7u 1: C\u00e0i \u0111\u1eb7t Weka"
      ]
    },
    {
      "cell_type": "markdown",
      "metadata": {},
      "source": [
        "Giao di\u1ec7n ch\u1ee9c n\u0103ng Explorer c\u00f9ng m\u00e0n h\u00ecnh desktop:\n",
        "\n",
        "![](images/weka/weka-homescreen.png)"
      ]
    },
    {
      "cell_type": "markdown",
      "metadata": {},
      "source": [
        "- **Current relation:** Cho bi\u1ebft t\u00ean c\u01a1 s\u1edf d\u1eef li\u1ec7u hi\u1ec7n \u0111ang \u0111\u00e3 \u0111\u01b0\u1ee3c n\u1ea1p, s\u1ed1 m\u1eabu trong t\u1eadp d\u1eef li\u1ec7u, s\u1ed1 thu\u1ed9c t\u00ednh trong t\u1eadp d\u1eef li\u1ec7u.\n",
        "- **Attributes:** hi\u1ec3n th\u1ecb c\u00e1c tr\u01b0\u1eddng kh\u00e1c nhau trong c\u01a1 s\u1edf d\u1eef li\u1ec7u. C\u00f3 c\u00e1c t\u00f9y ch\u1ecdn \u0111\u1ec3 ch\u1ecdn t\u1ea5t c\u1ea3 thu\u1ed9c t\u00ednh, h\u1ee7y ch\u1ecdn, ch\u1ecdn theo regex, ...\n",
        "- **Selected attribute:** ch\u00fang ta c\u00f3 th\u1ec3 quan s\u00e1t \u0111\u01b0\u1ee3c t\u00ean thu\u1ed9c t\u00ednh \u0111\u01b0\u1ee3c hi\u1ec3n th\u1ecb (Name), lo\u1ea1i c\u1ee7a thu\u1ed9c t\u00ednh \u0111\u00f3 (Type), s\u1ed1 l\u01b0\u1ee3ng gi\u00e1 tr\u1ecb c\u00f2n thi\u1ebfu (missing), s\u1ed1 l\u01b0\u1ee3ng gi\u00e1 tr\u1ecb kh\u00e1c bi\u1ec7t (Distinct), s\u1ed1 l\u01b0\u1ee3ng gi\u00e1 tr\u1ecb duy nh\u1ea5t (Unique). Ngo\u00e0i ra n\u00f3 c\u00f2n hi\u1ec3n th\u1ecb th\u00eam th\u00f4ng tin t\u00f9y v\u00e0o lo\u1ea1i c\u1ee7a c\u1ed9t:  \n",
        "    - **Thu\u1ed9c t\u00ednh numeric:** min, max, mean, std.\n",
        "    - **Thu\u1ed9c t\u00ednh categorical:** danh s\u00e1ch c\u00e1c gi\u00e1 tr\u1ecb distinct c\u0169ng nh\u01b0 t\u1ea7n s\u1ed1 c\u1ee7a ch\u00fang."
      ]
    },
    {
      "cell_type": "markdown",
      "metadata": {},
      "source": [
        "M\u00e0n h\u00ecnh ch\u00ednh c\u1ee7a Weka Explorer c\u00f3 5 tab:\n",
        "\n",
        "- **Preprocess:** ch\u1ecdn t\u1ec7p d\u1eef li\u1ec7u, x\u1eed l\u00fd v\u00e0 l\u00e0m cho n\u00f3 ph\u00f9 h\u1ee3p \u0111\u1ec3 \u00e1p d\u1ee5ng c\u00e1c thu\u1eadt to\u00e1n h\u1ecdc m\u00e1y kh\u00e1c nhau.\n",
        "- **Classify:** cung c\u1ea5p m\u1ed9t s\u1ed1 thu\u1eadt to\u00e1n m\u00e1y h\u1ecdc (c\u00f3 gi\u00e1m s\u00e1t v\u00e0 kh\u00f4ng gi\u00e1m s\u00e1t, nh\u01b0 SVM, logistic regression, random forest) \u0111\u1ec3 *ph\u00e2n l\u1edbp* d\u1eef li\u1ec7u.\n",
        "- **Cluster:** c\u00f3 m\u1ed9t s\u1ed1 thu\u1eadt to\u00e1n ML ph\u00e2n c\u1ee5m \u0111\u01b0\u1ee3c cung c\u1ea5p nh\u01b0 SimpleKMeans, FilteredClusterer, HierarchicalClusterer,\u2026\n",
        "- **Associate:** s\u1eed d\u1ee5ng c\u00e1c thu\u1eadt to\u00e1n khai th\u00e1c t\u1eadp ph\u1ed5 bi\u1ebfn tr\u00ean d\u1eef li\u1ec7u (t\u00ecm th\u1ea5y \u0111\u01b0\u1ee3c Apriori, FilteredAssociator v\u00e0 FPGrowth) \u0111\u1ec3 t\u00ecm ra c\u00e1c t\u1eadp ph\u1ed5 bi\u1ebfn.\n",
        "- **Select Attribute:** cho ph\u00e9p l\u1ef1a ch\u1ecdn c\u00e1c thu\u1ed9c t\u00ednh ph\u00f9 h\u1ee3p d\u1ef1a tr\u00ean m\u1ed9t s\u1ed1 thu\u1eadt to\u00e1n nh\u01b0 ClassifierSubsetEval, PrinicipalComponents, ... (vd: \u0111\u1ec3 xem c\u00e1c thu\u1ed9c t\u00ednh n\u00e0o c\u00f3 t\u01b0\u01a1ng quan v\u1edbi nhau).\n",
        "- **Visualize:** cho ph\u00e9p tr\u1ef1c quan h\u00f3a d\u1eef li\u1ec7u \u0111\u00e3 x\u1eed l\u00fd \u0111\u1ec3 ph\u00e2n t\u00edch. C\u00e1c \u0111\u1ed3 th\u1ecb \u0111\u01b0\u1ee3c hi\u1ec3n th\u1ecb theo c\u1eb7p c\u00e1c thu\u1ed9c t\u00ednh."
      ]
    },
    {
      "cell_type": "markdown",
      "metadata": {},
      "source": [
        "## Y\u00eau c\u1ea7u 2: L\u00e0m quen v\u1edbi Weka"
      ]
    },
    {
      "cell_type": "markdown",
      "metadata": {},
      "source": [
        "1. T\u1eadp d\u1eef li\u1ec7u c\u00f3 bao nhi\u00eau m\u1eabu (instances): 286.\n",
        "2. T\u1eadp d\u1eef li\u1ec7u c\u00f3 bao nhi\u00eau thu\u1ed9c t\u00ednh (attributes): 10.\n",
        "3. Thu\u1ed9c t\u00ednh `Class` \u0111\u01b0\u1ee3c d\u00f9ng l\u00e0m l\u1edbp. C\u00f3 th\u1ec3 thay \u0111\u1ed5i thu\u1ed9c t\u00ednh d\u00f9ng l\u00e0m l\u1edbp b\u1eb1ng c\u00e1ch nh\u1ea5p v\u00e0o tr\u01b0\u1eddng `Class` \u1edf drop-down list b\u00ean d\u01b0\u1edbi `Selected attribute` r\u1ed3i ch\u1ecdn thu\u1ed9c t\u00ednh ta mong mu\u1ed1n d\u00f9ng l\u00e0m l\u1edbp.\n",
        "4. C\u00f3 2 thu\u1ed9c t\u00ednh b\u1ecb thi\u1ebfu d\u1eef li\u1ec7u: `node-caps`, `breast-quad`. Thu\u1ed9c t\u00ednh `node-caps` thi\u1ebfu d\u1eef li\u1ec7u nhi\u1ec1u nh\u1ea5t (thi\u1ebfu 8), Thu\u1ed9c t\u00ednh `breast-quad` thi\u1ebfu d\u1eef li\u1ec7u \u00edt nh\u1ea5t (thi\u1ebfu 1). <br>C\u00e1c c\u00e1ch \u0111\u1ec3 x\u1eed l\u00fd d\u1eef li\u1ec7u b\u1ecb thi\u1ebfu: \u0111i\u1ec1n b\u1eb1ng gi\u00e1 tr\u1ecb 0, \u0111i\u1ec1n b\u1eb1ng gi\u00e1 tr\u1ecb li\u1ec1n k\u1ec1 tr\u01b0\u1edbc/sau (back/forward fill), \u0111i\u1ec1n b\u1eb1ng gi\u00e1 tr\u1ecb median/mean/mode c\u1ee7a c\u1ed9t, ... <br> Trong Weka, \u0111\u1ec3 \u0111i\u1ec1n gi\u00e1 tr\u1ecb thi\u1ebfu ta nh\u1ea5n `Choose` t\u1ea1i `Filter` -> \u1ea5n v\u00e0o `Filter` -> \u1ea5n `unsupervised-attribute` -> \u1ea5n `attribute` -> \u1ea5n `ReplaceMissingValues` -> \u1ea5n `Apply`.\n",
        "5. \u0110\u1ed3 th\u1ecb \u1edf \u0111\u00e2y l\u00e0 histogram \u2013 hi\u1ec3n th\u1ecb t\u1ea7n su\u1ea5t xu\u1ea5t hi\u1ec7n c\u1ee7a c\u00e1c m\u1eabu (instances) mang c\u00e1c l\u1edbp (Class) t\u01b0\u01a1ng \u1ee9ng \u0111\u1ed1i v\u1edbi c\u00e1c thu\u1ed9c t\u00ednh li\u00ean t\u1ee5c, v\u00e0 l\u00e0 bar plot v\u1edbi c\u00e1c thu\u1ed9c t\u00ednh categorical (ch\u1ee9c n\u0103ng t\u01b0\u01a1ng t\u1ef1). N\u1ebfu x\u00e9t ri\u00eang 1 c\u1ed9t th\u00ec m\u00e0u xanh, \u0111\u1ecf th\u1ec3 hi\u1ec7n cho t\u1ef7 l\u1ec7 c\u1ee7a c\u00e1c instances mang gi\u00e1 tr\u1ecb l\u00e0 label c\u1ee7a c\u1ed9t \u0111\u00f3 m\u00e0 mang c\u00e1c Class `yes`, `no` t\u01b0\u01a1ng \u1ee9ng.\n",
        "\n",
        "![](images/weka/weka-lamquen1.png)\n",
        "\n",
        "![](images/weka/weka-lamquen2.png)"
      ]
    },
    {
      "cell_type": "markdown",
      "metadata": {},
      "source": [
        "## Y\u00eau c\u1ea7u 3: Kh\u00e1m ph\u00e1 t\u1eadp d\u1eef li\u1ec7u weather"
      ]
    },
    {
      "cell_type": "markdown",
      "metadata": {},
      "source": [
        "![](images/weka/weka-weather1.png) \n",
        "\n",
        "![](images/weka/weka-weather2.png) "
      ]
    },
    {
      "cell_type": "markdown",
      "metadata": {},
      "source": [
        "1. T\u1eadp d\u1eef li\u1ec7u c\u00f3 5 thu\u1ed9c t\u00ednh, c\u00f3 14 m\u1eabu. Thu\u1ed9c t\u00ednh `play` l\u00e0 l\u1edbp.  \n",
        "    - C\u00e1c thu\u1ed9c t\u00ednh numeric: `attribute`, `humidity`.\n",
        "    - C\u00e1c thu\u1ed9c t\u00ednh categorical: `outlook`, `windy`, `play`.\n",
        "2. C\u00f3 v\u1ebb nh\u01b0 Weka kh\u00f4ng cung c\u1ea5p nh\u1eefng gi\u00e1 tr\u1ecb *five-number summary* n\u00e0y.\n",
        "3. \u0110\u1ed3 th\u1ecb c\u1ee7a c\u00e1c thu\u1ed9c t\u00ednh kh\u00e1c:  \n",
        "    ![](images/weka/weka-weather3.png)  \n",
        "4. Thu\u1eadt ng\u1eef s\u1eed d\u1ee5ng trong textbook \u0111\u1ec3 \u0111\u1eb7t t\u00ean cho c\u00e1c \u0111\u1ed3 th\u1ecb \u1edf tab `Visualize` l\u00e0 scatter plot.  \n",
        "    ![](images/weka/weka-weather4.png)  \n",
        "    Nh\u00ecn chung c\u00e1c thu\u1ed9c t\u00ednh c\u00f3 v\u1ebb kh\u00f4ng li\u00ean quan t\u1edbi nhau l\u1eafm, tuy nhi\u00ean em th\u1ea5y \u0111\u01b0\u1ee3c c\u00e1c c\u1eb7p \u0111\u1eb7c bi\u1ec7t sau:\n",
        "    \n",
        "    - `temperature`, `humidity`: Khi nhi\u1ec7t \u0111\u1ed9 t\u0103ng l\u00ean th\u00ec \u0111\u1ed9 \u1ea9m s\u1ebd gi\u1ea3m xu\u1ed1ng v\u00e0 khi nhi\u1ec7t \u0111\u1ed9 gi\u1ea3m xu\u1ed1ng th\u00ec \u0111\u1ed9 \u1ea9m t\u0103ng l\u00ean, nhi\u1ec7t \u0111\u1ed9 v\u00e0 \u0111\u1ed9 \u1ea9m t\u1ef7 l\u1ec7 ngh\u1ecbch v\u1edbi nhau.\n",
        "    - `temperature` v\u00e0 `outlook`: khi th\u1eddi ti\u1ebft \u1ea5m l\u00ean (sunny) th\u00ec nhi\u1ec7t \u0111\u1ed9 c\u0169ng t\u0103ng l\u00ean, khi th\u1eddi ti\u1ebft tr\u1edf l\u1ea1nh (rainy) th\u00ec nhi\u1ec7t \u0111\u1ed9 gi\u1ea3m xu\u1ed1ng, nhi\u1ec7t \u0111\u1ed9 v\u00e0 th\u1eddi ti\u1ebft t\u1ef7 l\u1ec7 v\u1edbi nhau.\n",
        "    "
      ]
    },
    {
      "cell_type": "markdown",
      "metadata": {},
      "source": [
        "## Y\u00eau c\u1ea7u 3: Kh\u00e1m ph\u00e1 t\u1eadp d\u1eef li\u1ec7u t\u00edn d\u1ee5ng \u0110\u1ee9c"
      ]
    },
    {
      "cell_type": "markdown",
      "metadata": {},
      "source": [
        "![](images/weka/weka-credit1.png)  \n",
        "![](images/weka/weka-credit2.png)  \n",
        "\n",
        "\n",
        "1. Ph\u1ea7n ch\u00fa th\u00edch c\u1ee7a file n\u00e0y d\u00e0i kho\u1ea3ng 270 d\u00f2ng, bao g\u1ed3m \n",
        "- Ti\u00eau \u0111\u1ec1: D\u1eef li\u1ec7u t\u00edn d\u1ee5ng c\u1ee7a \u0110\u1ee9c\n",
        "- T\u00e1c gi\u1ea3: Gi\u00e1o s\u01b0 Ti\u1ebfn s\u0129 Hans Hofmann.\n",
        "- S\u1ed1 l\u01b0\u1ee3ng m\u1eabu: 1000. \n",
        "- Ch\u00fa th\u00edch: \"Hai b\u1ed9 d\u1eef li\u1ec7u \u0111\u01b0\u1ee3c cung c\u1ea5p, t\u1eadp d\u1eef li\u1ec7u g\u1ed1c do Gi\u00e1o s\u01b0 Hofmann cung c\u1ea5p, ch\u1ee9a c\u00e1c thu\u1ed9c t\u00ednh categorical/symbolic (ph\u00e2n lo\u1ea1i / bi\u1ec3u t\u01b0\u1ee3ng) v\u00e0 n\u1eb1m trong t\u1ec7p \"german.data\". \u0110\u1ed1i v\u1edbi c\u00e1c thu\u1eadt to\u00e1n c\u1ea7n thu\u1ed9c t\u00ednh s\u1ed1, \u0110\u1ea1i h\u1ecdc Strathclyde \u0111\u00e3 t\u1ea1o ra t\u1ec7p \"german.data-numeric\". T\u1ec7p n\u00e0y \u0111\u00e3 \u0111\u01b0\u1ee3c ch\u1ec9nh s\u1eeda v\u00e0 th\u00eam m\u1ed9t s\u1ed1 bi\u1ebfn ch\u1ec9 s\u1ed1 \u0111\u1ec3 ph\u00f9 h\u1ee3p v\u1edbi c\u00e1c thu\u1eadt to\u00e1n kh\u00f4ng th\u1ec3 \u0111\u1ed1i ph\u00f3 v\u1edbi c\u00e1c bi\u1ebfn ph\u00e2n lo\u1ea1i. M\u1ed9t s\u1ed1 thu\u1ed9c t\u00ednh \u0111\u01b0\u1ee3c s\u1eafp x\u1ebfp theo th\u1ee9 t\u1ef1 ph\u00e2n lo\u1ea1i (ch\u1eb3ng h\u1ea1n nh\u01b0 thu\u1ed9c t\u00ednh 17) \u0111\u00e3 \u0111\u01b0\u1ee3c m\u00e3 h\u00f3a d\u01b0\u1edbi d\u1ea1ng s\u1ed1 nguy\u00ean. S\u1ed1 l\u01b0\u1ee3ng thu\u1ed9c t\u00ednh v\u00e0 chi ti\u1ebft t\u1eebng thu\u1ed9c t\u00ednh.\"\n",
        "- C\u00f3 1000 m\u1eabu, 21 thu\u1ed9c t\u00ednh.\n",
        "\n",
        "**M\u00f4 t\u1ea3 5 thu\u1ed9c t\u00ednh b\u1ea5t k\u1ef3:**\n",
        "\n",
        "- Thu\u1ed9c t\u00ednh 1: `checking status` (li\u00ean t\u1ee5c): \n",
        "```\n",
        "Type: Nominal; Missing: 0 (0%); Distinct: 4; Unique: 0 (0%)\n",
        "```\n",
        "- Thu\u1ed9c t\u00ednh 2: `credit_history` (r\u1eddi r\u1ea1c):\n",
        "```\n",
        "Type: Nominal; Missing: 0 (0%); Distinct: 5; Unique: 0 (0%)\n",
        "```\n",
        "- Thu\u1ed9c t\u00ednh 3: `purpose` (r\u1eddi r\u1ea1c):\n",
        "```\n",
        "Type: Nominal; Missing: 0 (0%); Distinct: 10; Unique: 0 (0%)\n",
        "```\n",
        "- Thu\u1ed9c t\u00ednh 4: `saving_status` (li\u00ean t\u1ee5c):\n",
        "```\n",
        "Type: Nominal; Missing: 0 (0%); Distinct: 5; Unique:0 (0%)\n",
        "```\n",
        "- Thu\u1ed9c t\u00ednh 5: `employment` (li\u00ean t\u1ee5c):\n",
        "```\n",
        "Type: Nominal; Missing: 0 (0%); Distinct: 5; Unique: 0 (0%)\n",
        "```\n",
        "\n",
        "2. T\u00ean c\u1ee7a thu\u1ed9c t\u00ednh l\u1edbp l\u00e0 `class`. \u0110\u00e1nh gi\u00e1 ph\u00e2n b\u1ed1: l\u1ec7ch v\u1ec1 m\u1ed9t l\u1edbp (`good`). L\u1edbp `good` c\u00f3 s\u1ed1 instance g\u1ea5p \u0111\u00f4i l\u1edbp `bad`.\n",
        "\n",
        "![](images/weka/weka-credit4.png)  \n",
        "\n",
        "3. C\u00e1c ph\u01b0\u01a1ng ph\u00e1p c\u1ee7a Weka \u0111\u1ec3 ch\u1ecdn l\u1ecdc thu\u1ed9c t\u00ednh:\n",
        "\n",
        "![](images/weka/weka-attribselect.png)\n",
        "\n",
        "- **CfsSubsetEval**: \u0110\u00e1nh gi\u00e1 m\u1ee9c \u0111\u1ed9 quan tr\u1ecdng c\u1ee7a m\u1ed9t t\u1eadp h\u1ee3p con c\u00e1c thu\u1ed9c t\u00ednh b\u1eb1ng c\u00e1ch xem x\u00e9t kh\u1ea3 n\u0103ng d\u1ef1 \u0111o\u00e1n ri\u00eang c\u1ee7a t\u1eebng \u0111\u1eb7c \u0111i\u1ec3m c\u00f9ng v\u1edbi m\u1ee9c \u0111\u1ed9 d\u01b0 th\u1eeba gi\u1eefa ch\u00fang (t\u1eadp c\u00e1c thu\u1ed9c t\u00ednh c\u00f3 t\u01b0\u01a1ng quan cao v\u1edbi class attribute v\u00e0 \u00edt b\u1ecb t\u01b0\u01a1ng quan v\u1edbi nhau (intercorrelate) \u0111\u01b0\u1ee3c \u01b0u ti\u00ean).\n",
        "- **ClassifierAttributeEval**: \u0111\u00e1nh gi\u00e1 m\u1ee9c \u0111\u1ed9 quan tr\u1ecdng c\u1ee7a m\u1ed9t thu\u1ed9c t\u00ednh b\u1eb1ng c\u00e1ch s\u1eed d\u1ee5ng b\u1ed9 ph\u00e2n l\u1edbp do ng\u01b0\u1eddi d\u00f9ng ch\u1ec9 \u0111\u1ecbnh.\n",
        "- **CorrelationAttributeEval**: \u0111\u00e1nh gi\u00e1 m\u1ee9c \u0111\u1ed9 quan tr\u1ecdng c\u1ee7a m\u1ed9t thu\u1ed9c t\u00ednh b\u1eb1ng c\u00e1ch \u0111o l\u01b0\u1eddng m\u1ed1i t\u01b0\u01a1ng quan gi\u1eefa n\u00f3 v\u00e0 l\u1edbp b\u1eb1ng h\u1ec7 s\u1ed1 t\u01b0\u01a1ng quan Pearson.\n",
        "- **ClassifierSubsetEvaluator**: \u0111\u00e1nh gi\u00e1 gi\u00e1 tr\u1ecb thu\u1ed9c t\u00ednh tr\u00ean d\u1eef li\u1ec7u training ho\u1eb7c m\u1ed9t t\u1eadp cross validation (hold-out) ri\u00eang bi\u1ec7t.\n",
        "- **PrincipleComponents**: s\u1eed d\u1ee5ng gi\u1ea3i thu\u1eadt PCA (ph\u00e2n t\u00edch c\u00e1c th\u00e0nh ph\u1ea7n ch\u00ednh) \u0111\u1ec3 gi\u1ea3m s\u1ed1 chi\u1ec1u (s\u1ed1 c\u1ed9t) c\u1ee7a d\u1eef li\u1ec7u.\n",
        "- V\u00e2n v\u00e2n.\n",
        "\n",
        "4. \u0110\u1ec3 ch\u1ecdn ra 5 thu\u1ed9c t\u00ednh c\u00f3 t\u01b0\u01a1ng quan cao nh\u1ea5t v\u1edbi thu\u1ed9c t\u00ednh class: c\u1ea7n s\u1eed d\u1ee5ng b\u1ed9 l\u1ecdc `CorrelationAttributeEval`\n",
        "    - B\u01b0\u1edbc 1: Ch\u1ecdn tab `Select attribute`.   \n",
        "    ![](images/weka/weka-credit5.png)  \n",
        "\n",
        "    - B\u01b0\u1edbc 2: Nh\u1ea5n choose \u1edf `Attribute Evaluator`, ch\u1ecdn `CorrelationAttributeEval`.  \n",
        "    ![](images/weka/weka-credit6.png)  \n",
        "    \n",
        "    - B\u01b0\u1edbc 3: Click v\u00e0o text box c\u00f3 ch\u1eef `Ranker` \u0111\u1ec3 tinh ch\u1ec9nh thu\u1eadt to\u00e1n t\u00ecm ki\u1ebfm thu\u1ed9c t\u00ednh. Nh\u1eadp `5` v\u00e0o tr\u01b0\u1eddng `numToSelect` \u0111\u1ec3 ch\u1ecdn 5 thu\u1ed9c t\u00ednh c\u00f3 \u0111\u1ed9 t\u01b0\u01a1ng quan cao nh\u1ea5t v\u1edbi thu\u1ed9c t\u00ednh class. Nh\u1ea5n `OK`.  \n",
        "    ![](images/weka/weka-credit7.png)  \n",
        "    \n",
        "    - B\u01b0\u1edbc 4: Ch\u1ecdn thu\u1ed9c t\u00ednh l\u1edbp \u1edf drop-down list b\u00ean d\u01b0\u1edbi tr\u01b0\u1eddng `Search Method`.  \n",
        "    ![](images/weka/weka-credit8.png)  \n",
        "    \n",
        "    - B\u01b0\u1edbc 5: Nh\u1ea5n Start v\u00e0 \u0111\u1ee3i thu\u1eadt to\u00e1n ch\u1ea1y xong. Quan s\u00e1t k\u1ebft qu\u1ea3 \u1edf text box b\u00ean ph\u1ea3i.\n",
        "    ![](images/weka/weka-credit9.png)  \n",
        "\n",
        "Nh\u01b0 v\u1eady c\u00e1c thu\u1ed9c t\u00ednh \u0111\u00e3 \u0111\u01b0\u1ee3c ch\u1ecdn b\u1edfi thu\u1eadt to\u00e1n n\u00e0y l\u00e0: `checking_status`, `duration`, `credit_amount`, `savings_status`, `housing`."
      ]
    },
    {
      "cell_type": "markdown",
      "metadata": {},
      "source": [
        "# Ch\u01b0\u01a1ng tr\u00ecnh ti\u1ec1n x\u1eed l\u00fd d\u1eef li\u1ec7u"
      ]
    },
    {
      "cell_type": "markdown",
      "metadata": {},
      "source": [
        "## Gi\u1edbi thi\u1ec7u"
      ]
    },
    {
      "cell_type": "markdown",
      "metadata": {},
      "source": [
        "- **T\u00ean ch\u01b0\u01a1ng tr\u00ecnh:** Honoda (**Hono**ka's **Da**ta Preprocessor), \u0111\u01b0\u1ee3c \u0111\u1eb7t t\u00ean theo nh\u00e2n v\u1eadt anime y\u00eau th\u00edch c\u1ee7a em - Kousaka Honoka `=)`.\n",
        "- **Ng\u00f4n ng\u1eef l\u1eadp tr\u00ecnh:** Python 3.9.5.\n",
        "- **C\u00e1c th\u01b0 vi\u1ec7n \u0111\u00e3 s\u1eed d\u1ee5ng:**\n",
        "    - `argparse`: th\u01b0 vi\u1ec7n ph\u00e2n t\u00edch tham s\u1ed1 d\u00f2ng l\u1ec7nh c\u1ee7a Python.\n",
        "    - `csv`: th\u01b0 vi\u1ec7n \u0111\u1ecdc/ghi file CSV c\u1ee7a Python.\n",
        "    - `re`: th\u01b0 vi\u1ec7n x\u1eed l\u00fd bi\u1ec3u th\u1ee9c ch\u00ednh quy. D\u00f9ng \u0111\u1ec3 ph\u00e2n t\u00edch pattern c\u1ee7a d\u1eef li\u1ec7u \u0111\u1ec3 \u0111o\u00e1n ki\u1ec3u d\u1eef li\u1ec7u (do data \u0111\u1ecdc v\u00e0o t\u1eeb CSV l\u00e0 d\u1ea1ng chu\u1ed7i).\n",
        "    - `copy`: \u0111\u1ec3 copy c\u00e1c object trong Python, tr\u00e1nh tr\u01b0\u1eddng h\u1ee3p c\u00e1c mutable member variables b\u1ecb cross-referenced.\n",
        "    - `math`: c\u00e1c h\u00e0m to\u00e1n h\u1ecdc trong Python.\n",
        "    - `operator`: th\u01b0 vi\u1ec7n \u0111\u1ec3 l\u1ea5y ra c\u00e1c tham chi\u1ebfu \u0111\u1ebfn c\u00e1c to\u00e1n t\u1eed c\u01a1 b\u1ea3n trong Python (nh\u01b0 `add`, `sub`, ...) \u0111\u1ec3 implement operator overloading.\n",
        "    - `honolib`: th\u01b0 vi\u1ec7n x\u1eed l\u00fd dataframe c\u01a1 b\u1ea3n do em ph\u00e1t tri\u1ec3n.\n",
        "    - Ch\u01b0\u01a1ng tr\u00ecnh kh\u00f4ng s\u1eed d\u1ee5ng c\u00e1c th\u01b0 vi\u1ec7n ngo\u00e0i.  \n",
        "    \n",
        "B\u00e1o c\u00e1o c\u1ee7a b\u00e0i n\u00e0y em vi\u1ebft b\u1eb1ng Jupyter Notebook, c\u00f3 \u0111\u00ednh k\u00e8m theo notebook g\u1ed1c tr\u01b0\u1edbc khi convert sang \\LaTeX n\u00ean th\u1ea7y c\u00f3 th\u1ec3 th\u1eed ch\u1ea1y \u0111\u1ec3 ki\u1ec3m ch\u1ee9ng k\u1ebft qu\u1ea3 \u1ea1. \\bigskip\n",
        "\n",
        "**Note:** T\u1ea1i v\u00ec em \u0111\u00e3 ho\u00e0n th\u00e0nh xong project tr\u01b0\u1edbc khi \u0111\u1ecdc \u0111\u01b0\u1ee3c th\u00f4ng b\u00e1o \"\u0111\u01b0\u1ee3c s\u1eed d\u1ee5ng pandas\" c\u1ee7a th\u1ea7y tr\u00ean Moodle n\u00ean em \u0111\u00e3 l\u1ee1 vi\u1ebft l\u1ea1i m\u1ed9t th\u01b0 vi\u1ec7n t\u01b0\u01a1ng t\u1ef1 pandas \u0111\u1ec3 ph\u1ee5c v\u1ee5 cho \u0111\u1ed3 \u00e1n lu\u00f4n r\u1ed3i \u1ea1 `:(`. \\bigskip\n",
        "\n",
        "Trong qu\u00e1 tr\u00ecnh vi\u1ebft b\u00e1o c\u00e1o, em s\u1ebd s\u1eed d\u1ee5ng th\u01b0 vi\u1ec7n `pandas` \u0111\u1ec3 **\u0111\u1ed1i chi\u1ebfu k\u1ebft qu\u1ea3** th\u1ef1c hi\u1ec7n c\u1ee7a 2 b\u00ean trong m\u1ed9t s\u1ed1 tr\u01b0\u1eddng h\u1ee3p \u0111\u1ec3 xem implementation c\u1ee7a em c\u00f3 ho\u1ea1t \u0111\u1ed9ng \"chu\u1ea9n\" ch\u01b0a. Ngo\u00e0i ra c\u00f3 m\u1ed9t s\u1ed1 ch\u1ee9c n\u0103ng em c\u1ea7n cho qu\u00e1 tr\u00ecnh demo m\u00e0 \u0111\u1ec1 kh\u00f4ng y\u00eau c\u1ea7u (nh\u01b0 xu\u1ea5t ra 10 d\u00f2ng \u0111\u1ea7u c\u1ee7a file thay v\u00ec xu\u1ea5t h\u1ebft 1000 d\u00f2ng) th\u00ec em xin \u0111\u01b0\u1ee3c d\u00f9ng m\u1ed9t s\u1ed1 c\u00e2u l\u1ec7nh tr\u00ean terminal c\u1ee7a Linux (nh\u01b0 `head`, `tail`, `grep`, ...) \u0111\u1ec3 ti\u1ebft ki\u1ec7m th\u1eddi gian \u1ea1."
      ]
    },
    {
      "cell_type": "markdown",
      "metadata": {},
      "source": [
        "## Danh s\u00e1ch c\u00e1c l\u1edbp c\u1ee7a ch\u01b0\u01a1ng tr\u00ecnh\n",
        "\n",
        "![class-diagram](images/class_diagram.png)\n",
        "\n",
        "- `Series`: bi\u1ec3u di\u1ec5n m\u1ed9t c\u1ed9t c\u1ee7a b\u1ea3ng. \n",
        "- `DataFrame`: bi\u1ec3u di\u1ec5n m\u1ed9t b\u1ea3ng. \n",
        "- `SeriesExpression`: bi\u1ec3u di\u1ec5n m\u1ed9t bi\u1ec3u th\u1ee9c m\u00e0 c\u00e1c to\u00e1n h\u1ea1ng l\u00e0 c\u00e1c c\u1ed9t.\n",
        "- `Controller`: \u0111\u1ec3 gom nh\u00f3m c\u00e1c h\u00e0m x\u1eed l\u00fd c\u1ee7a ch\u01b0\u01a1ng tr\u00ecnh l\u1ea1i. M\u1ed7i ph\u01b0\u01a1ng th\u1ee9c \u1ee9ng v\u1edbi m\u1ed9t ch\u1ee9c n\u0103ng y\u00eau c\u1ea7u c\u1ee7a \u0111\u1ec1. H\u00e0m main s\u1ebd ph\u00e2n t\u00edch tham s\u1ed1 d\u00f2ng l\u1ec7nh \u0111\u1ec3 g\u1ecdi \u0111\u1ebfn c\u00e1c ph\u01b0\u01a1ng th\u1ee9c t\u01b0\u01a1ng \u1ee9ng trong class n\u00e0y."
      ]
    },
    {
      "cell_type": "markdown",
      "metadata": {},
      "source": [
        "Tr\u00ean \u0111\u00e2y l\u00e0 s\u01a1 \u0111\u1ed3 l\u1edbp c\u00e1c l\u1edbp ch\u00ednh c\u1ee7a ch\u01b0\u01a1ng tr\u00ecnh do em \u0111\u00e3 thi\u1ebft k\u1ebf. Do s\u1ed1 l\u01b0\u1ee3ng h\u00e0m kh\u00e1 nhi\u1ec1u n\u00ean em c\u0169ng xin kh\u00f4ng ghi c\u00e1c h\u00e0m private c\u0169ng nh\u01b0 c\u00e1c h\u00e0m li\u00ean quan \u0111\u1ebfn qu\u00e1 t\u1ea3i to\u00e1n t\u1eed trong n\u00e0y. \u0110\u1ec3 bi\u1ebft ch\u1ee9c n\u0103ng v\u00e0 c\u00e1ch s\u1eed d\u1ee5ng m\u1ed7i h\u00e0m, th\u1ea7y c\u00f3 th\u1ec3 xem source code c\u1ee7a c\u00e1c module t\u01b0\u01a1ng \u1ee9ng. M\u1ed7i h\u00e0m em \u0111\u1ec1u c\u00f3 vi\u1ebft m\u1ed9t docstring \u0111\u1ec3 m\u00f4 t\u1ea3 tham s\u1ed1, ch\u1ee9c n\u0103ng v\u00e0 d\u1eef li\u1ec7u tr\u1ea3 v\u1ec1."
      ]
    },
    {
      "cell_type": "markdown",
      "metadata": {},
      "source": [
        "## B\u00e1o c\u00e1o c\u00e1c ch\u1ee9c n\u0103ng ch\u00ednh"
      ]
    },
    {
      "cell_type": "markdown",
      "metadata": {},
      "source": [
        "C\u01a1 b\u1ea3n em \u0111\u00e3 ho\u00e0n thi\u1ec7n \u0111\u01b0\u1ee3c t\u1ea5t c\u1ea3 8 ch\u1ee9c n\u0103ng m\u00e0 \u0111\u1ec1 y\u00eau c\u1ea7u. C\u1ee5 th\u1ec3 nh\u01b0 c\u00e1c m\u1ee5c con \u1edf b\u00ean d\u01b0\u1edbi."
      ]
    },
    {
      "cell_type": "markdown",
      "metadata": {},
      "source": [
        "Th\u1eed g\u1ecdi l\u1ec7nh help c\u1ee7a ch\u01b0\u01a1ng tr\u00ecnh:"
      ]
    },
    {
      "cell_type": "code",
      "execution_count": 1,
      "metadata": {},
      "outputs": [
        {
          "name": "stdout",
          "output_type": "stream",
          "text": [
            "/home/hiraki/source/DataMining/DataCleasing/src\n"
          ]
        }
      ],
      "source": [
        "%cd ../../src"
      ]
    },
    {
      "cell_type": "code",
      "execution_count": 2,
      "metadata": {},
      "outputs": [
        {
          "name": "stdout",
          "output_type": "stream",
          "text": [
            "usage: honoda.py [-h] [-o OUTPUT] [-v]\n",
            "                 {stats,fillna,dropna,dropdup,normalize,evaluate} ... INPUT\n",
            "\n",
            "Honoka's Data Preprocessing Toolbox\n",
            "\n",
            "positional arguments:\n",
            "  {stats,fillna,dropna,dropdup,normalize,evaluate}\n",
            "                        Honoda subcommands\n",
            "    stats               Display data statistics\n",
            "    fillna              Fill null values\n",
            "    dropna              Drop column or row with null values\n",
            "    dropdup             Only keep unique rows from the dataframe\n",
            "    normalize           Normalize a column\n",
            "    evaluate            Evaluate a columnar expression\n",
            "  INPUT                 Input filename\n",
            "\n",
            "optional arguments:\n",
            "  -h, --help            show this help message and exit\n",
            "  -o OUTPUT, --out OUTPUT\n",
            "                        Output filename\n",
            "  -v, --verbose         Increase verbosity\n"
          ]
        }
      ],
      "source": [
        "!python3 honoda.py --help"
      ]
    },
    {
      "cell_type": "code",
      "execution_count": 3,
      "metadata": {},
      "outputs": [
        {
          "name": "stdout",
          "output_type": "stream",
          "text": [
            "usage: honoda.py stats [-h] [--shape | -ls | -d COLUMN | -cnr | -lnc]\n",
            "\n",
            "optional arguments:\n",
            "  -h, --help            show this help message and exit\n",
            "  --shape               Print dataframe's shape\n",
            "  -ls, --list-columns   List all columns and their detected datatype\n",
            "  -d COLUMN, --describe COLUMN\n",
            "                        Display statistical info (min, max, mean, mode, ...)\n",
            "                        of a column\n",
            "  -cnr, --count-null-rows\n",
            "                        Count all rows with at least one null value, and\n",
            "                        display the total null-ed rows\n",
            "  -lnc, --list-null-columns\n",
            "                        List all columns with at least one null value, and\n",
            "                        their total null counts\n"
          ]
        }
      ],
      "source": [
        "!python3 honoda.py stats --help"
      ]
    },
    {
      "cell_type": "markdown",
      "metadata": {},
      "source": [
        "### Th\u1eed li\u1ec7t k\u00ea ra 10 c\u1ed9t \u0111\u1ea7u v\u00e0 cu\u1ed1i c\u1ee7a b\u1ea3ng"
      ]
    },
    {
      "cell_type": "code",
      "execution_count": 4,
      "metadata": {},
      "outputs": [
        {
          "name": "stdout",
          "output_type": "stream",
          "text": [
            "Id              \t <class 'int'>\n",
            "MSSubClass      \t <class 'int'>\n",
            "MSZoning        \t <class 'str'>\n",
            "LotFrontage     \t <class 'float'>\n",
            "LotArea         \t <class 'int'>\n",
            "Street          \t <class 'str'>\n",
            "Alley           \t <class 'str'>\n",
            "LotShape        \t <class 'str'>\n",
            "LandContour     \t <class 'str'>\n",
            "Utilities       \t <class 'str'>\n",
            "\n",
            "PoolQC          \t None\n",
            "Fence           \t <class 'str'>\n",
            "MiscFeature     \t <class 'str'>\n",
            "MiscVal         \t <class 'int'>\n",
            "MoSold          \t <class 'int'>\n",
            "YrSold          \t <class 'int'>\n",
            "SaleType        \t <class 'str'>\n",
            "SaleCondition   \t <class 'str'>\n",
            "SalePrice       \t <class 'int'>\n",
            "Total: 81 columns.\n"
          ]
        }
      ],
      "source": [
        "# Li\u1ec7t k\u00ea t\u1ea5t c\u1ea3 c\u00e1c c\u1ed9t, ghi ra file cols.txt\n",
        "!python3 honoda.py stats --list-columns ../house-prices.csv > cols.txt\n",
        "\n",
        "# Xu\u1ea5t 10 c\u1ed9t \u0111\u1ea7u v\u00e0 10 c\u1ed9t cu\u1ed1i c\u1ee7a b\u1ea3ng (d\u00f9ng l\u1ec7nh head v\u00e0 tail c\u1ee7a Linux).\n",
        "!head -n 10 cols.txt \n",
        "!echo\n",
        "!tail -n 10 cols.txt\n",
        "!rm cols.txt"
      ]
    },
    {
      "cell_type": "markdown",
      "metadata": {},
      "source": [
        "C\u1ed9t `PoolQC` c\u00f3 ki\u1ec3u l\u00e0 `None` v\u00ec c\u1ed9t n\u00e0y kh\u00f4ng ch\u1ee9a b\u1ea5t c\u1ee9 d\u1eef li\u1ec7u n\u00e0o."
      ]
    },
    {
      "cell_type": "markdown",
      "metadata": {},
      "source": [
        "### Y\u00eau c\u1ea7u 1: Li\u1ec7t k\u00ea c\u00e1c c\u1ed9t b\u1ecb thi\u1ebfu d\u1eef li\u1ec7u"
      ]
    },
    {
      "cell_type": "code",
      "execution_count": 5,
      "metadata": {},
      "outputs": [
        {
          "name": "stdout",
          "output_type": "stream",
          "text": [
            "LotFrontage   \t 173\n",
            "Alley         \t 941\n",
            "MasVnrType    \t 593\n",
            "MasVnrArea    \t 10\n",
            "BsmtQual      \t 27\n",
            "BsmtCond      \t 27\n",
            "BsmtExposure  \t 28\n",
            "BsmtFinType1  \t 27\n",
            "BsmtFinType2  \t 29\n",
            "FireplaceQu   \t 501\n",
            "GarageType    \t 60\n",
            "GarageYrBlt   \t 60\n",
            "GarageFinish  \t 60\n",
            "GarageQual    \t 60\n",
            "GarageCond    \t 60\n",
            "PoolQC        \t 1000\n",
            "Fence         \t 815\n",
            "MiscFeature   \t 963\n",
            "\n",
            "Total null values: 5434\n"
          ]
        }
      ],
      "source": [
        "!python3 honoda.py stats --list-null-columns ../house-prices.csv"
      ]
    },
    {
      "cell_type": "markdown",
      "metadata": {},
      "source": [
        "Th\u1eed ki\u1ec3m tra l\u1ea1i b\u1eb1ng th\u01b0 vi\u1ec7n \"chu\u1ea9n\" `pandas`:"
      ]
    },
    {
      "cell_type": "code",
      "execution_count": 6,
      "metadata": {},
      "outputs": [],
      "source": [
        "import pandas as pd\n",
        "df = pd.read_csv('../house-prices.csv')"
      ]
    },
    {
      "cell_type": "code",
      "execution_count": 7,
      "metadata": {},
      "outputs": [
        {
          "name": "stdout",
          "output_type": "stream",
          "text": [
            "LotFrontage          173\n",
            "Alley                941\n",
            "MasVnrType           593\n",
            "MasVnrArea           10\n",
            "BsmtQual             27\n",
            "BsmtCond             27\n",
            "BsmtExposure         28\n",
            "BsmtFinType1         27\n",
            "BsmtFinType2         29\n",
            "FireplaceQu          501\n",
            "GarageType           60\n",
            "GarageYrBlt          60\n",
            "GarageFinish         60\n",
            "GarageQual           60\n",
            "GarageCond           60\n",
            "PoolQC               1000\n",
            "Fence                815\n",
            "MiscFeature          963\n"
          ]
        }
      ],
      "source": [
        "for col in df.columns:\n",
        "    null_val = df[col].isnull().sum()\n",
        "    if null_val > 0:\n",
        "        print(col.ljust(20), null_val)"
      ]
    },
    {
      "cell_type": "markdown",
      "metadata": {},
      "source": [
        "### Y\u00eau c\u1ea7u 2: \u0110\u1ebfm s\u1ed1 h\u00e0ng b\u1ecb thi\u1ebfu d\u1eef li\u1ec7u"
      ]
    },
    {
      "cell_type": "code",
      "execution_count": 8,
      "metadata": {},
      "outputs": [
        {
          "name": "stdout",
          "output_type": "stream",
          "text": [
            "Number of null rows in dataframe: 1000\n"
          ]
        }
      ],
      "source": [
        "!python3 honoda.py stats --count-null-rows ../house-prices.csv"
      ]
    },
    {
      "cell_type": "markdown",
      "metadata": {},
      "source": [
        "Ki\u1ec3m tra l\u1ea1i b\u1eb1ng `pandas`:"
      ]
    },
    {
      "cell_type": "code",
      "execution_count": 9,
      "metadata": {},
      "outputs": [
        {
          "data": {
            "text/plain": [
              "1000"
            ]
          },
          "execution_count": 9,
          "metadata": {},
          "output_type": "execute_result"
        }
      ],
      "source": [
        "len(df) - len(df.dropna())"
      ]
    },
    {
      "cell_type": "markdown",
      "metadata": {},
      "source": [
        "### Y\u00eau c\u1ea7u 3: \u0110i\u1ec1n gi\u00e1 tr\u1ecb thi\u1ebfu v\u1edbi thu\u1ed9c t\u00ednh numeric (ph\u01b0\u01a1ng ph\u00e1p mean)\n",
        "B\u00e2y gi\u1edd ta th\u1eed \u0111i\u1ec1n gi\u00e1 tr\u1ecb thi\u1ebfu cho c\u1ed9t `LotFrontage`. Theo nh\u01b0 ta \u0111\u00e3 th\u1ea5y \u1edf tr\u00ean th\u00ec c\u1ed9t n\u00e0y c\u00f3 ki\u1ec3u d\u1eef li\u1ec7u l\u00e0 `int`.\n",
        "2 c\u00e2u l\u1ec7nh b\u00ean d\u01b0\u1edbi \u0111\u1ec3 in ra th\u00f4ng s\u1ed1 c\u1ee7a c\u1ed9t `LotFrontage` tr\u01b0\u1edbc khi th\u1ef1c hi\u1ec7n fill, v\u00e0 sau \u0111\u00f3 g\u1ecdi l\u1ec7nh \u0111\u1ec3 fill c\u00e1c gi\u00e1 tr\u1ecb null b\u1eb1ng ph\u01b0\u01a1ng ph\u00e1p mean, sau \u0111\u00f3 xu\u1ea5t ra file `out.csv`. C\u00e2u l\u1ec7nh cu\u1ed1i c\u00f9ng \u0111\u1ec3 ki\u1ec3m tra l\u1ea1i k\u1ebft qu\u1ea3 sau khi fill."
      ]
    },
    {
      "cell_type": "code",
      "execution_count": 10,
      "metadata": {},
      "outputs": [
        {
          "name": "stdout",
          "output_type": "stream",
          "text": [
            "Type:             <class 'float'>\n",
            "Length:           1000\n",
            "Null values:      173\n",
            "Label:            LotFrontage\n",
            "Sum:              57314.0\n",
            "Mean:             69.3035\n",
            "Median:           73.0\n",
            "Std:              21.2598\n",
            "Min-Max:          (21.0, 153.0)\n",
            "Mode:             (60.0, 117)\n"
          ]
        }
      ],
      "source": [
        "# Xem th\u00f4ng s\u1ed1 c\u1ed9t tr\u01b0\u1edbc khi fill\n",
        "!python3 honoda.py stats --describe LotFrontage ../house-prices.csv"
      ]
    },
    {
      "cell_type": "code",
      "execution_count": 11,
      "metadata": {},
      "outputs": [
        {
          "name": "stdout",
          "output_type": "stream",
          "text": [
            "Type:             <class 'float'>\n",
            "Length:           1000\n",
            "Null values:      0\n",
            "Label:            LotFrontage\n",
            "Sum:              69303.5067\n",
            "Mean:             69.3035\n",
            "Median:           69.3035\n",
            "Std:              19.3336\n",
            "Min-Max:          (21.0, 153.0)\n",
            "Mode:             (69.30350665054414, 173)\n"
          ]
        }
      ],
      "source": [
        "# Fill v\u1edbi ph\u01b0\u01a1ng ph\u00e1p mean\n",
        "!python3 honoda.py -o out.csv fillna --method mean --column LotFrontage ../house-prices.csv\n",
        "# In l\u1ea1i th\u00f4ng s\u1ed1 c\u1ee7a c\u1ed9t sau khi fill\n",
        "!python3 honoda.py stats --describe LotFrontage out.csv"
      ]
    },
    {
      "cell_type": "markdown",
      "metadata": {},
      "source": [
        "Ta nh\u1eadn th\u1ea5y s\u1ed1 gi\u00e1 tr\u1ecb null \u0111\u00e3 gi\u1ea3m v\u1ec1 0. Ngo\u00e0i ra, gi\u00e1 tr\u1ecb mean l\u00e0 69.3035 do b\u1ecb \u0111i\u1ec1n l\u1eb7p \u0111i l\u1eb7p l\u1ea1i t\u1edbi 173 l\u1ea7n c\u0169ng \u0111\u00e3 thay th\u1ebf 60.0, tr\u1edf th\u00e0nh gi\u00e1 tr\u1ecb mode c\u1ee7a c\u1ed9t."
      ]
    },
    {
      "cell_type": "markdown",
      "metadata": {},
      "source": [
        "Th\u1eed l\u1ea1i v\u1edbi c\u1ed9t `PoolQC` (c\u1ed9t ho\u00e0n to\u00e0n r\u1ed7ng, kh\u00f4ng ch\u1ee9a d\u1eef li\u1ec7u)."
      ]
    },
    {
      "cell_type": "code",
      "execution_count": 12,
      "metadata": {},
      "outputs": [
        {
          "name": "stdout",
          "output_type": "stream",
          "text": [
            "Before\n",
            "Type:             None\n",
            "Length:           1000\n",
            "Null values:      1000\n",
            "Label:            PoolQC\n",
            "Sum:              None\n",
            "Mean:             None\n",
            "Median:           None\n",
            "Std:              None\n",
            "Min-Max:          None\n",
            "Mode:             (0, 0)\n",
            "\n",
            "After\n",
            "Type:             <class 'int'>\n",
            "Length:           1000\n",
            "Null values:      0\n",
            "Label:            PoolQC\n",
            "Sum:              0\n",
            "Mean:             0.0\n",
            "Median:           0\n",
            "Std:              0.0\n",
            "Min-Max:          (0, 0)\n",
            "Mode:             (0, 1000)\n"
          ]
        }
      ],
      "source": [
        "!echo \"Before\"\n",
        "!python3 honoda.py stats --describe PoolQC ../house-prices.csv\n",
        "!python3 honoda.py -o out.csv fillna --method mean --column PoolQC ../house-prices.csv\n",
        "!echo \"\\nAfter\"\n",
        "!python3 honoda.py stats --describe PoolQC out.csv"
      ]
    },
    {
      "cell_type": "markdown",
      "metadata": {},
      "source": [
        "Trong tham s\u1ed1 d\u00f2ng l\u1ec7nh m\u1eb7c d\u00f9 em \u0111\u00e3 cho `--method=mean` nh\u01b0ng ch\u01b0\u01a1ng tr\u00ecnh v\u1eabn fill b\u1eb1ng ph\u01b0\u01a1ng ph\u00e1p `mode`, l\u00e0 v\u00ec n\u00f3 \u0111\u00e3 nh\u1eadn di\u1ec7n c\u1ed9t n\u00e0y l\u00e0 categorical (c\u1ed9t r\u1ed7ng t\u00ednh l\u00e0 categorical) v\u00e0 b\u1eaft bu\u1ed9c ph\u1ea3i fill theo `mode` thay v\u00ec `mean`.  \n",
        "Ngo\u00e0i ra, d\u1ec5 th\u1ea5y \u0111\u01b0\u1ee3c c\u1ed9t \u0111\u00e3 \u0111\u01b0\u1ee3c fill b\u1eb1ng gi\u00e1 tr\u1ecb `0`. \u0110i\u1ec1u n\u00e0y l\u00e0 n\u1ebfu do c\u1ed9t r\u1ed7ng th\u00ec bi\u1ebfn \u0111\u1ebfm c\u1ee7a c\u1ed9t (trong implementation) s\u1ebd kh\u00f4ng bao gi\u1edd t\u0103ng n\u00ean n\u00f3 v\u1eabn \u1edf gi\u00e1 tr\u1ecb `0`, do \u0111\u00f3 c\u1ed9t \u0111\u01b0\u1ee3c fill b\u1eb1ng gi\u00e1 tr\u1ecb `0`."
      ]
    },
    {
      "cell_type": "markdown",
      "metadata": {},
      "source": [
        "### Y\u00eau c\u1ea7u 3: \u0110i\u1ec1n gi\u00e1 tr\u1ecb thi\u1ebfu v\u1edbi thu\u1ed9c t\u00ednh numeric (ph\u01b0\u01a1ng ph\u00e1p median)\n",
        "T\u01b0\u01a1ng t\u1ef1 nh\u01b0 tr\u00ean, nh\u01b0ng l\u1ea7n n\u00e0y ta th\u1ef1c hi\u1ec7n v\u1edbi c\u1ed9t `GarageYrBlt`. C\u1ed9t n\u00e0y c\u00f3 ki\u1ec3u d\u1eef li\u1ec7u `float`."
      ]
    },
    {
      "cell_type": "code",
      "execution_count": 13,
      "metadata": {},
      "outputs": [
        {
          "name": "stdout",
          "output_type": "stream",
          "text": [
            "Type:             <class 'float'>\n",
            "Length:           1000\n",
            "Null values:      60\n",
            "Label:            GarageYrBlt\n",
            "Sum:              1859474.0\n",
            "Mean:             1978.1638\n",
            "Median:           1985.0\n",
            "Std:              25.2207\n",
            "Min-Max:          (1900.0, 2010.0)\n",
            "Mode:             (2006.0, 42)\n"
          ]
        }
      ],
      "source": [
        "# In ra th\u00f4ng s\u1ed1 c\u1ed9t tr\u01b0\u1edbc khi fill\n",
        "!python3 honoda.py stats --describe GarageYrBlt ../house-prices.csv"
      ]
    },
    {
      "cell_type": "code",
      "execution_count": 14,
      "metadata": {},
      "outputs": [
        {
          "name": "stdout",
          "output_type": "stream",
          "text": [
            "Type:             <class 'float'>\n",
            "Length:           1000\n",
            "Null values:      0\n",
            "Label:            GarageYrBlt\n",
            "Sum:              1978574.0\n",
            "Mean:             1978.574\n",
            "Median:           1985.0\n",
            "Std:              24.5062\n",
            "Min-Max:          (1900.0, 2010.0)\n",
            "Mode:             (1985.0, 65)\n"
          ]
        }
      ],
      "source": [
        "# Fill c\u1ed9t v\u1edbi ph\u01b0\u01a1ng ph\u00e1p median\n",
        "!python3 honoda.py -o out.csv fillna --method median --column GarageYrBlt ../house-prices.csv\n",
        "# In l\u1ea1i th\u00f4ng s\u1ed1 c\u1ed9t sau khi fill\n",
        "!python3 honoda.py stats --describe GarageYrBlt out.csv"
      ]
    },
    {
      "cell_type": "markdown",
      "metadata": {},
      "source": [
        "### Y\u00eau c\u1ea7u 3: \u0110i\u1ec1n gi\u00e1 tr\u1ecb thi\u1ebfu v\u1edbi thu\u1ed9c t\u00ednh categorical (ph\u01b0\u01a1ng ph\u00e1p mode)\n",
        "T\u01b0\u01a1ng t\u1ef1 nh\u01b0 tr\u00ean, nh\u01b0ng l\u1ea7n n\u00e0y ta th\u1ef1c hi\u1ec7n v\u1edbi c\u1ed9t `GarageType`. C\u1ed9t n\u00e0y c\u00f3 ki\u1ec3u d\u1eef li\u1ec7u `str`."
      ]
    },
    {
      "cell_type": "code",
      "execution_count": 15,
      "metadata": {},
      "outputs": [
        {
          "name": "stdout",
          "output_type": "stream",
          "text": [
            "Type:             <class 'str'>\n",
            "Length:           1000\n",
            "Null values:      60\n",
            "Label:            GarageType\n",
            "Sum:              None\n",
            "Mean:             None\n",
            "Median:           None\n",
            "Std:              None\n",
            "Min-Max:          None\n",
            "Mode:             ('Attchd', 572)\n"
          ]
        }
      ],
      "source": [
        "# In ra th\u00f4ng s\u1ed1 c\u1ed9t tr\u01b0\u1edbc khi fill\n",
        "!python3 honoda.py stats --describe GarageType ../house-prices.csv"
      ]
    },
    {
      "cell_type": "code",
      "execution_count": 16,
      "metadata": {},
      "outputs": [
        {
          "name": "stdout",
          "output_type": "stream",
          "text": [
            "Type:             <class 'str'>\n",
            "Length:           1000\n",
            "Null values:      0\n",
            "Label:            GarageType\n",
            "Sum:              None\n",
            "Mean:             None\n",
            "Median:           None\n",
            "Std:              None\n",
            "Min-Max:          None\n",
            "Mode:             ('Attchd', 632)\n"
          ]
        }
      ],
      "source": [
        "# Fill c\u1ed9t v\u1edbi ph\u01b0\u01a1ng ph\u00e1p mode\n",
        "!python3 honoda.py -o out.csv fillna --column=GarageType --method=mode ../house-prices.csv\n",
        "# In l\u1ea1i th\u00f4ng s\u1ed1 c\u1ed9t sau khi fill\n",
        "!python3 honoda.py stats --describe GarageType out.csv"
      ]
    },
    {
      "cell_type": "markdown",
      "metadata": {},
      "source": [
        "N\u1ebfu \u0111\u1ec3 \u00fd, ta s\u1ebd th\u1ea5y \u0111\u01b0\u1ee3c tr\u01b0\u1edbc khi fill, mode c\u1ee7a c\u1ed9t n\u00e0y l\u00e0 `Attchd`, v\u00e0 c\u00f3 t\u1ea7n su\u1ea5t xu\u1ea5t hi\u1ec7n l\u00e0 572. C\u1ed9t c\u00f3 60 gi\u00e1 tr\u1ecb null. Sau khi fill, mode v\u1eabn gi\u1eef nguy\u00ean, v\u00e0 t\u1ea7n su\u1ea5t xu\u1ea5t hi\u1ec7n t\u0103ng l\u00ean m\u1ed9t l\u01b0\u1ee3ng \u0111\u00fang b\u1eb1ng 60 (572 + 60 = 632). "
      ]
    },
    {
      "cell_type": "markdown",
      "metadata": {},
      "source": [
        "Th\u1eed l\u1ea1i v\u1edbi c\u1ed9t `FireplaceQu`, ta c\u0169ng quan s\u00e1t \u0111\u01b0\u1ee3c \u0111i\u1ec1u t\u01b0\u01a1ng t\u1ef1:"
      ]
    },
    {
      "cell_type": "code",
      "execution_count": 17,
      "metadata": {},
      "outputs": [
        {
          "name": "stdout",
          "output_type": "stream",
          "text": [
            "Type:             <class 'str'>\n",
            "Length:           1000\n",
            "Null values:      501\n",
            "Label:            FireplaceQu\n",
            "Sum:              None\n",
            "Mean:             None\n",
            "Median:           None\n",
            "Std:              None\n",
            "Min-Max:          None\n",
            "Mode:             ('Gd', 242)\n"
          ]
        }
      ],
      "source": [
        "# In ra th\u00f4ng s\u1ed1 c\u1ed9t tr\u01b0\u1edbc khi fill\n",
        "!python3 honoda.py stats --describe FireplaceQu ../house-prices.csv"
      ]
    },
    {
      "cell_type": "code",
      "execution_count": 18,
      "metadata": {},
      "outputs": [
        {
          "name": "stdout",
          "output_type": "stream",
          "text": [
            "Type:             <class 'str'>\n",
            "Length:           1000\n",
            "Null values:      0\n",
            "Label:            FireplaceQu\n",
            "Sum:              None\n",
            "Mean:             None\n",
            "Median:           None\n",
            "Std:              None\n",
            "Min-Max:          None\n",
            "Mode:             ('Gd', 743)\n"
          ]
        }
      ],
      "source": [
        "# Fill c\u1ed9t v\u1edbi ph\u01b0\u01a1ng ph\u00e1p mode\n",
        "!python3 honoda.py -o out.csv fillna --column=FireplaceQu --method=mode ../house-prices.csv\n",
        "# In l\u1ea1i th\u00f4ng s\u1ed1 c\u1ed9t sau khi fill\n",
        "!python3 honoda.py stats --describe FireplaceQu out.csv"
      ]
    },
    {
      "cell_type": "markdown",
      "metadata": {},
      "source": [
        "### Y\u00eau c\u1ea7u 4: X\u00f3a c\u00e1c c\u1ed9t b\u1ecb thi\u1ebfu v\u1edbi ng\u01b0\u1ee1ng t\u1ec9 l\u1ec7 thi\u1ebfu cho tr\u01b0\u1edbc"
      ]
    },
    {
      "cell_type": "markdown",
      "metadata": {},
      "source": [
        "Gi\u1ea3 s\u1eed ta ch\u1ecdn `threshold = 0.6`. Ta nh\u1eadn th\u1ea5y b\u1ea3ng c\u00f3 1000 d\u00f2ng, m\u00e0 $0.6 \\times 1000 = 600$, ngh\u0129a l\u00e0 nh\u1eefng c\u1ed9t n\u00e0o c\u00f3 nhi\u1ec1u h\u01a1n ho\u1eb7c b\u1eb1ng 600 gi\u00e1 tr\u1ecb null s\u1ebd b\u1ecb \"bay m\u00e0u\".  \n",
        "D\u1ef1a v\u00e0o b\u1ea3ng th\u1ed1ng k\u00ea \u1edf ph\u1ea7n *\u0110\u1ebfm s\u1ed1 h\u00e0ng b\u1ecb thi\u1ebfu d\u1eef li\u1ec7u*, ta th\u1ea5y c\u00e1c c\u1ed9t `Alley`, `Fence`, `PoolQC`, `MiscFeature` s\u1ebd b\u1ecb drop n\u1ebfu ta ch\u1ecdn threshold n\u00e0y."
      ]
    },
    {
      "cell_type": "code",
      "execution_count": 19,
      "metadata": {},
      "outputs": [
        {
          "name": "stdout",
          "output_type": "stream",
          "text": [
            "Deleted \"Alley\"; Null = 94.1%\n",
            "Deleted \"PoolQC\"; Null = 100.0%\n",
            "Deleted \"Fence\"; Null = 81.5%\n",
            "Deleted \"MiscFeature\"; Null = 96.3%\n"
          ]
        }
      ],
      "source": [
        "!python3 honoda.py -o out.csv dropna --axis=1 --threshold=0.6 ../house-prices.csv"
      ]
    },
    {
      "cell_type": "markdown",
      "metadata": {},
      "source": [
        "\u0110\u00fang nh\u01b0 d\u1ef1 \u0111o\u00e1n, c\u00e1c c\u1ed9t n\u00eau tr\u00ean \u0111\u00e3 b\u1ecb x\u00f3a. \u0110\u1ec3 ch\u1eafc ch\u1eafn h\u01a1n, b\u00e2y gi\u1edd ta th\u1eed \u0111\u1ecdc file output l\u00ean \u0111\u1ec3 xem c\u00e1c c\u1ed9t \u0111\u00f3 c\u00f2n kh\u00f4ng."
      ]
    },
    {
      "cell_type": "code",
      "execution_count": 20,
      "metadata": {},
      "outputs": [
        {
          "name": "stdout",
          "output_type": "stream",
          "text": [
            "LotFrontage   \t 173\n",
            "MasVnrType    \t 593\n",
            "MasVnrArea    \t 10\n",
            "BsmtQual      \t 27\n",
            "BsmtCond      \t 27\n",
            "BsmtExposure  \t 28\n",
            "BsmtFinType1  \t 27\n",
            "BsmtFinType2  \t 29\n",
            "FireplaceQu   \t 501\n",
            "GarageType    \t 60\n",
            "GarageYrBlt   \t 60\n",
            "GarageFinish  \t 60\n",
            "GarageQual    \t 60\n",
            "GarageCond    \t 60\n",
            "\n",
            "Total null values: 1715\n"
          ]
        }
      ],
      "source": [
        "!python3 honoda.py stats -lnc out.csv"
      ]
    },
    {
      "cell_type": "markdown",
      "metadata": {},
      "source": [
        "Th\u1eed l\u1ea1i v\u1edbi `threshold = 0.5`. Ta c\u00f3 $0.5 \\times 1000 = 500$, n\u00ean t\u01b0\u01a1ng t\u1ef1, c\u00e1c c\u1ed9t `Alley`, `Fence`, `PoolQC`, `MiscFeature`, `FireplaceQu`, `MasVnrType` s\u1ebd b\u1ecb x\u00f3a."
      ]
    },
    {
      "cell_type": "code",
      "execution_count": 21,
      "metadata": {},
      "outputs": [
        {
          "name": "stdout",
          "output_type": "stream",
          "text": [
            "Deleted \"Alley\"; Null = 94.1%\n",
            "Deleted \"MasVnrType\"; Null = 59.3%\n",
            "Deleted \"FireplaceQu\"; Null = 50.1%\n",
            "Deleted \"PoolQC\"; Null = 100.0%\n",
            "Deleted \"Fence\"; Null = 81.5%\n",
            "Deleted \"MiscFeature\"; Null = 96.3%\n"
          ]
        }
      ],
      "source": [
        "!python3 honoda.py -o out.csv dropna --axis=1 --threshold=0.5 ../house-prices.csv"
      ]
    },
    {
      "cell_type": "markdown",
      "metadata": {},
      "source": [
        "### Y\u00eau c\u1ea7u 5: X\u00f3a c\u00e1c h\u00e0ng b\u1ecb thi\u1ebfu v\u1edbi ng\u01b0\u1ee1ng t\u1ec9 l\u1ec7 thi\u1ebfu cho tr\u01b0\u1edbc\n",
        "In ra l\u1ea1i c\u00e1c h\u00e0ng b\u1ecb thi\u1ebfu d\u1eef li\u1ec7u"
      ]
    },
    {
      "cell_type": "code",
      "execution_count": 22,
      "metadata": {},
      "outputs": [
        {
          "name": "stdout",
          "output_type": "stream",
          "text": [
            "Number of null rows in dataframe: 1000\n"
          ]
        }
      ],
      "source": [
        "!python3 honoda.py stats -cnr ../house-prices.csv"
      ]
    },
    {
      "cell_type": "markdown",
      "metadata": {},
      "source": [
        "Ta th\u1eed drop c\u00e1c h\u00e0ng b\u1ecb thi\u1ebfu d\u1eef li\u1ec7u v\u1edbi threshold = 0.07. B\u1ea3ng c\u00f3 81 c\u1ed9t, v\u1eady n\u1ebfu h\u00e0ng n\u00e0o c\u00f3 $ceil(81 \\times 0.07) = 6$ c\u1ed9t b\u1ecb thi\u1ebfu s\u1ebd b\u1ecb drop."
      ]
    },
    {
      "cell_type": "code",
      "execution_count": 23,
      "metadata": {},
      "outputs": [],
      "source": [
        "!python3 honoda.py -o out.csv dropna --axis=0 --threshold=0.07 ../house-prices.csv"
      ]
    },
    {
      "cell_type": "code",
      "execution_count": 24,
      "metadata": {},
      "outputs": [
        {
          "name": "stdout",
          "output_type": "stream",
          "text": [
            "Number of null rows in dataframe: 656\n"
          ]
        }
      ],
      "source": [
        "!python3 honoda.py stats -cnr out.csv"
      ]
    },
    {
      "cell_type": "markdown",
      "metadata": {},
      "source": [
        "Th\u1eed s\u1eed d\u1ee5ng `pandas` \u0111\u1ec3 ki\u1ec3m ch\u1ee9ng"
      ]
    },
    {
      "cell_type": "code",
      "execution_count": 25,
      "metadata": {},
      "outputs": [
        {
          "name": "stdout",
          "output_type": "stream",
          "text": [
            "Before: 1000\n",
            "After: 656\n"
          ]
        }
      ],
      "source": [
        "print('Before:', len(df) -  len(df.dropna()))\n",
        "df1 = df.dropna(thresh=81 * (1 - 0.07))\n",
        "print('After:', len(df1) -  len(df1.dropna()))"
      ]
    },
    {
      "cell_type": "markdown",
      "metadata": {},
      "source": [
        "Th\u1eed l\u1ea1i v\u1edbi v\u1edbi threshold = 0.05. B\u1ea3ng c\u00f3 81 c\u1ed9t, v\u1eady n\u1ebfu h\u00e0ng n\u00e0o c\u00f3 $ceil(81 \\times 0.05) = 5$ c\u1ed9t b\u1ecb thi\u1ebfu s\u1ebd b\u1ecb drop."
      ]
    },
    {
      "cell_type": "code",
      "execution_count": 26,
      "metadata": {},
      "outputs": [
        {
          "name": "stdout",
          "output_type": "stream",
          "text": [
            "Before drop:\n",
            "Number of null rows in dataframe: 1000\n",
            "After drop:\n",
            "Number of null rows in dataframe: 307\n"
          ]
        }
      ],
      "source": [
        "# S\u1ed1 h\u00e0ng ban \u0111\u1ea7u\n",
        "print('Before drop:')\n",
        "!python3 honoda.py stats -cnr ../house-prices.csv\n",
        "!python3 honoda.py -o out.csv dropna --axis=0 --threshold=0.05 ../house-prices.csv\n",
        "print('After drop:')\n",
        "!python3 honoda.py stats -cnr out.csv"
      ]
    },
    {
      "cell_type": "markdown",
      "metadata": {},
      "source": [
        "Th\u1eed s\u1eed d\u1ee5ng `pandas` \u0111\u1ec3 ki\u1ec3m ch\u1ee9ng"
      ]
    },
    {
      "cell_type": "code",
      "execution_count": 27,
      "metadata": {},
      "outputs": [
        {
          "name": "stdout",
          "output_type": "stream",
          "text": [
            "Before: 1000\n",
            "After: 307\n"
          ]
        }
      ],
      "source": [
        "print('Before:', len(df) -  len(df.dropna()))\n",
        "df1 = df.dropna(thresh=81 * (1 - 0.05))\n",
        "print('After:', len(df1) -  len(df1.dropna()))"
      ]
    },
    {
      "cell_type": "markdown",
      "metadata": {
        "tags": []
      },
      "source": [
        "### Y\u00eau c\u1ea7u 6: X\u00f3a c\u00e1c m\u1eabu b\u1ecb tr\u00f9ng l\u1eb7p\n",
        "Ta in ra th\u00f4ng tin c\u1ee7a b\u1ea3ng tr\u01b0\u1edbc khi x\u00f3a"
      ]
    },
    {
      "cell_type": "code",
      "execution_count": 28,
      "metadata": {},
      "outputs": [
        {
          "name": "stdout",
          "output_type": "stream",
          "text": [
            "(1000, 81)\n"
          ]
        }
      ],
      "source": [
        "!python3 honoda.py stats --shape ../house-prices.csv"
      ]
    },
    {
      "cell_type": "code",
      "execution_count": 29,
      "metadata": {},
      "outputs": [],
      "source": [
        "!python3 honoda.py -o out.csv dropdup ../house-prices.csv"
      ]
    },
    {
      "cell_type": "code",
      "execution_count": 30,
      "metadata": {},
      "outputs": [
        {
          "name": "stdout",
          "output_type": "stream",
          "text": [
            "(716, 81)\n"
          ]
        }
      ],
      "source": [
        "# In ra th\u00f4ng tin sau khi x\u00f3a\n",
        "!python3 honoda.py stats --shape out.csv"
      ]
    },
    {
      "cell_type": "markdown",
      "metadata": {},
      "source": [
        "V\u1eady c\u00f3 284 m\u1eabu tr\u00f9ng l\u1eb7p \u0111\u00e3 b\u1ecb x\u00f3a.  \n",
        "Ta th\u1eed ki\u1ec3m tra l\u1ea1i b\u1eb1ng pandas:"
      ]
    },
    {
      "cell_type": "code",
      "execution_count": 31,
      "metadata": {},
      "outputs": [
        {
          "name": "stdout",
          "output_type": "stream",
          "text": [
            "Before: (1000, 81)\n",
            "After: (716, 81)\n"
          ]
        }
      ],
      "source": [
        "print('Before:', df.shape)\n",
        "df1 = df.drop_duplicates()\n",
        "print('After:', df1.shape)"
      ]
    },
    {
      "cell_type": "markdown",
      "metadata": {},
      "source": [
        "\\newcommand{\\xx}{\\mathbf{x}}\n",
        "### Y\u00eau c\u1ea7u 7: Chu\u1ea9n h\u00f3a m\u1ed9t c\u1ed9t (ph\u01b0\u01a1ng ph\u00e1p z-score)\n",
        "G\u1ecdi vector c\u1ea7n chu\u1ea9n h\u00f3a l\u00e0 $\\xx$. C\u00f4ng th\u1ee9c \u0111\u1ec3 chu\u1ea9n h\u00f3a theo ph\u01b0\u01a1ng ph\u00e1p z-score:\n",
        "\n",
        "$$\n",
        "\\xx = \\frac{\\xx - \\mu}{\\sigma}\n",
        "$$\n",
        "\n",
        "Trong ph\u1ea7n n\u00e0y em s\u1ebd l\u1ea5y c\u1ed9t `GarageYrBlt` \u0111\u1ec3 th\u1eed."
      ]
    },
    {
      "cell_type": "code",
      "execution_count": 32,
      "metadata": {},
      "outputs": [
        {
          "name": "stdout",
          "output_type": "stream",
          "text": [
            "Type:             <class 'float'>\n",
            "Length:           1000\n",
            "Null values:      60\n",
            "Label:            GarageYrBlt\n",
            "Sum:              1859474.0\n",
            "Mean:             1978.1638\n",
            "Median:           1985.0\n",
            "Std:              25.2207\n",
            "Min-Max:          (1900.0, 2010.0)\n",
            "Mode:             (2006.0, 42)\n"
          ]
        }
      ],
      "source": [
        "# In ra th\u00f4ng tin c\u1ed9t GarageYrBlt\n",
        "!python3 honoda.py stats --describe GarageYrBlt ../house-prices.csv"
      ]
    },
    {
      "cell_type": "code",
      "execution_count": 33,
      "metadata": {},
      "outputs": [],
      "source": [
        "# Chu\u1ea9n h\u00f3a b\u1eb1ng z-score \n",
        "!python3 honoda.py -o out.csv normalize --method zscore --column GarageYrBlt ../house-prices.csv"
      ]
    },
    {
      "cell_type": "code",
      "execution_count": 34,
      "metadata": {},
      "outputs": [
        {
          "name": "stdout",
          "output_type": "stream",
          "text": [
            "Type:             <class 'float'>\n",
            "Length:           1000\n",
            "Null values:      60\n",
            "Label:            GarageYrBlt\n",
            "Sum:              -0.0\n",
            "Mean:             -0.0\n",
            "Median:           0.2711\n",
            "Std:              1.0\n",
            "Min-Max:          (-3.0991932928723527, 1.2623031069833908)\n",
            "Mode:             (1.1037032378977272, 42)\n"
          ]
        }
      ],
      "source": [
        "# \u0110\u1ecdc l\u1ea1i th\u00f4ng tin c\u1ee7a c\u1ed9t sau khi \u0111\u01b0\u1ee3c chu\u1ea9n h\u00f3a\n",
        "!python3 honoda.py stats --describe GarageYrBlt out.csv"
      ]
    },
    {
      "cell_type": "markdown",
      "metadata": {},
      "source": [
        "V\u1eady sau khi chu\u1ea9n h\u00f3a b\u1eb1ng ph\u01b0\u01a1ng ph\u00e1p z-score, \u0111\u1ed9 l\u1ec7nh chu\u1ea9n v\u00e0 trung b\u00ecnh c\u1ee7a c\u1ed9t \u0111\u00e3 \u0111\u01b0\u1ee3c \u0111\u01b0a v\u1ec1 gi\u00e1 tr\u1ecb $\\mu=0, \\sigma=1$."
      ]
    },
    {
      "cell_type": "markdown",
      "metadata": {},
      "source": [
        "Ta th\u1eed l\u1ea1i v\u1edbi c\u1ed9t `TotRmsAbvGrd`:"
      ]
    },
    {
      "cell_type": "code",
      "execution_count": 35,
      "metadata": {},
      "outputs": [
        {
          "name": "stdout",
          "output_type": "stream",
          "text": [
            "Before:\n",
            "Type:             <class 'int'>\n",
            "Length:           1000\n",
            "Null values:      0\n",
            "Label:            TotRmsAbvGrd\n",
            "Sum:              6505\n",
            "Mean:             6.505\n",
            "Median:           6\n",
            "Std:              1.6426\n",
            "Min-Max:          (2, 12)\n",
            "Mode:             (6, 289)\n",
            "\n",
            "After:\n",
            "Type:             <class 'float'>\n",
            "Length:           1000\n",
            "Null values:      0\n",
            "Label:            TotRmsAbvGrd\n",
            "Sum:              0.0\n",
            "Mean:             0.0\n",
            "Median:           -0.3074\n",
            "Std:              1.0\n",
            "Min-Max:          (-2.7426843901867493, 3.3454052661656353)\n",
            "Mode:             (-0.3074485276457954, 289)\n"
          ]
        }
      ],
      "source": [
        "# In ra th\u00f4ng tin c\u1ed9t TotRmsAbvGrd\n",
        "print('Before:')\n",
        "!python3 honoda.py stats --describe TotRmsAbvGrd ../house-prices.csv\n",
        "# Chu\u1ea9n h\u00f3a b\u1eb1ng z-score \n",
        "!python3 honoda.py -o out.csv normalize --method zscore --column TotRmsAbvGrd ../house-prices.csv\n",
        "# \u0110\u1ecdc l\u1ea1i th\u00f4ng tin c\u1ee7a c\u1ed9t sau khi \u0111\u01b0\u1ee3c chu\u1ea9n h\u00f3a\n",
        "print('\\nAfter:')\n",
        "!python3 honoda.py stats --describe TotRmsAbvGrd out.csv"
      ]
    },
    {
      "cell_type": "markdown",
      "metadata": {},
      "source": [
        "Ta c\u0169ng quan s\u00e1t \u0111\u01b0\u1ee3c sau khi chu\u1ea9n h\u00f3a, $\\mu=0$ v\u00e0 $\\sigma=1$."
      ]
    },
    {
      "cell_type": "markdown",
      "metadata": {},
      "source": [
        "### Y\u00eau c\u1ea7u 7: Chu\u1ea9n h\u00f3a m\u1ed9t c\u1ed9t (ph\u01b0\u01a1ng ph\u00e1p min-max)\n",
        "\u0110\u1ec3 chu\u1ea9n h\u00f3a vector $\\xx$ theo ph\u01b0\u01a1ng ph\u00e1p min-max, ta s\u1eed d\u1ee5ng c\u00f4ng th\u1ee9c:\n",
        "$$ \n",
        "\\xx = \\frac{\\xx - min(\\xx)}{max(\\xx) - min(\\xx)}\n",
        "$$\n",
        "\n",
        "Trong ph\u1ea7n n\u00e0y em s\u1ebd l\u1ea5y c\u1ed9t `SalePrice` \u0111\u1ec3 th\u1eed."
      ]
    },
    {
      "cell_type": "code",
      "execution_count": 36,
      "metadata": {},
      "outputs": [
        {
          "name": "stdout",
          "output_type": "stream",
          "text": [
            "Type:             <class 'int'>\n",
            "Length:           1000\n",
            "Null values:      0\n",
            "Label:            SalePrice\n",
            "Sum:              178116040\n",
            "Mean:             178116.04\n",
            "Median:           159000\n",
            "Std:              80133.889\n",
            "Min-Max:          (35311, 611657)\n",
            "Mode:             (135000, 16)\n"
          ]
        }
      ],
      "source": [
        "# In ra th\u00f4ng tin c\u1ed9t SalePrice\n",
        "!python3 honoda.py stats --describe SalePrice ../house-prices.csv"
      ]
    },
    {
      "cell_type": "code",
      "execution_count": 37,
      "metadata": {},
      "outputs": [],
      "source": [
        "# Chu\u1ea9n h\u00f3a b\u1eb1ng min-max\n",
        "!python3 honoda.py -o out.csv normalize --method minmax --column SalePrice ../house-prices.csv"
      ]
    },
    {
      "cell_type": "code",
      "execution_count": 38,
      "metadata": {
        "tags": []
      },
      "outputs": [
        {
          "name": "stdout",
          "output_type": "stream",
          "text": [
            "Type:             <class 'float'>\n",
            "Length:           1000\n",
            "Null values:      0\n",
            "Label:            SalePrice\n",
            "Sum:              247.7766\n",
            "Mean:             0.2478\n",
            "Median:           0.2146\n",
            "Std:              0.139\n",
            "Min-Max:          (0.0, 1.0)\n",
            "Mode:             (0.17296728007134604, 16)\n"
          ]
        }
      ],
      "source": [
        "# \u0110\u1ecdc l\u1ea1i th\u00f4ng tin c\u1ee7a c\u1ed9t sau khi \u0111\u01b0\u1ee3c chu\u1ea9n h\u00f3a\n",
        "!python3 honoda.py stats --describe SalePrice out.csv"
      ]
    },
    {
      "cell_type": "markdown",
      "metadata": {},
      "source": [
        "V\u1eady sau khi chu\u1ea9n h\u00f3a b\u1eb1ng ph\u01b0\u01a1ng ph\u00e1p min-max, mi\u1ec1n gi\u00e1 tr\u1ecb c\u1ee7a c\u1ed9t \u0111\u00e3 \u0111\u01b0\u1ee3c \u0111\u01b0a v\u1ec1 $(0, 1)$ (c\u00f3 th\u1ec3 nh\u00ecn th\u1ea5y qua gi\u00e1 tr\u1ecb c\u1ee7a tr\u01b0\u1eddng `Min-Max`)."
      ]
    },
    {
      "cell_type": "markdown",
      "metadata": {},
      "source": [
        "Ta th\u1eed l\u1ea1i v\u1edbi c\u1ed9t `OpenPorchSF`:"
      ]
    },
    {
      "cell_type": "code",
      "execution_count": 39,
      "metadata": {},
      "outputs": [
        {
          "name": "stdout",
          "output_type": "stream",
          "text": [
            "Before:\n",
            "Type:             <class 'int'>\n",
            "Length:           1000\n",
            "Null values:      0\n",
            "Label:            OpenPorchSF\n",
            "Sum:              44870\n",
            "Mean:             44.87\n",
            "Median:           20\n",
            "Std:              66.3318\n",
            "Min-Max:          (0, 547)\n",
            "Mode:             (0, 476)\n",
            "\n",
            "After:\n",
            "Type:             <class 'float'>\n",
            "Length:           1000\n",
            "Null values:      0\n",
            "Label:            OpenPorchSF\n",
            "Sum:              82.0293\n",
            "Mean:             0.082\n",
            "Median:           0.0366\n",
            "Std:              0.1213\n",
            "Min-Max:          (0.0, 1.0)\n",
            "Mode:             (0.0, 476)\n"
          ]
        }
      ],
      "source": [
        "# In ra th\u00f4ng tin c\u1ed9t PoolArea\n",
        "print('Before:')\n",
        "!python3 honoda.py stats --describe OpenPorchSF ../house-prices.csv\n",
        "# Chu\u1ea9n h\u00f3a b\u1eb1ng min-max\n",
        "!python3 honoda.py -o out.csv normalize --method minmax --column OpenPorchSF ../house-prices.csv\n",
        "# \u0110\u1ecdc l\u1ea1i th\u00f4ng tin c\u1ee7a c\u1ed9t sau khi \u0111\u01b0\u1ee3c chu\u1ea9n h\u00f3a\n",
        "print('\\nAfter:')\n",
        "!python3 honoda.py stats --describe OpenPorchSF out.csv"
      ]
    },
    {
      "cell_type": "markdown",
      "metadata": {},
      "source": [
        "Ta c\u0169ng quan s\u00e1t \u0111\u01b0\u1ee3c d\u1eef li\u1ec7u c\u1ee7a c\u1ed9t \u0111\u00e3 \u0111\u01b0\u1ee3c \u0111\u01b0a v\u1ec1 kho\u1ea3ng $(0, 1)$."
      ]
    },
    {
      "cell_type": "markdown",
      "metadata": {},
      "source": [
        "### Y\u00eau c\u1ea7u 8: T\u00ednh gi\u00e1 tr\u1ecb bi\u1ec3u th\u1ee9c thu\u1ed9c t\u00ednh\n",
        "\n",
        "\u1ede ph\u1ea7n n\u00e0y, em \u0111\u00e3 c\u00e0i \u0111\u1eb7t thu\u1eadt to\u00e1n shunting yard (bi\u1ebfn \u0111\u1ed5i v\u1ec1 suffix expression r\u1ed3i evaluate) n\u00ean bi\u1ec3u th\u1ee9c c\u00f3 quy \u0111\u1ecbnh ng\u1eb7t ngh\u00e8o m\u1ed9t ch\u00fat x\u00edu (\u0111\u1ec3 d\u1ec5 code h\u01a1n). Ngo\u00e0i ra em c\u0169ng kh\u00f4ng check syntax error (v\u00ec trong \u0111\u1ec1 c\u00f3 n\u00f3i *b\u1ea1n kh\u00f4ng c\u1ea7n ph\u1ea3i ki\u1ec3m tra t\u00ednh h\u1ee3p l\u1ec7 c\u1ee7a d\u1eef li\u1ec7u*). "
      ]
    },
    {
      "cell_type": "markdown",
      "metadata": {},
      "source": [
        "- C\u00e1c to\u00e1n t\u1eed \u0111\u01b0\u1ee3c ph\u00e9p s\u1eed d\u1ee5ng: +, -, *, /. \u0110\u01b0\u1ee3c ph\u00e9p s\u1eed d\u1ee5ng d\u1ea5u ngo\u1eb7c \u0111\u01a1n `()`.\n",
        "- C\u00e1c token ph\u1ea3i c\u00e1ch nhau b\u1eb1ng kho\u1ea3ng tr\u1eafng. Vd: `LotFrontage + YrSold / 2`.\n",
        "- N\u1ebfu th\u1ef1c hi\u1ec7n ph\u00e9p t\u00ednh gi\u1eefa c\u1ed9t v\u00e0 s\u1ed1 th\u1ef1c: s\u1ed1 ph\u1ea3i \u0111\u1ee9ng sau c\u1ed9t. Vd: `YrSold / 2`, `LotFrontage + 2.5`."
      ]
    },
    {
      "cell_type": "markdown",
      "metadata": {},
      "source": [
        " \n",
        "\n",
        "**Gi\u1ea3 s\u1eed** ta mu\u1ed1n t\u00ednh thu\u1ebf VAT (10%) c\u1ee7a m\u1ed9t $m^2$ \u0111\u1ea5t khi mua c\u0103n nh\u00e0 c\u00f3 gi\u00e1 tr\u1ecb bao nhi\u00eau (gi\u1ea3 s\u1eed c\u1ed9t `SalePrices` ch\u01b0a c\u00f3 VAT), ta c\u1ea7n t\u00ednh gi\u00e1 tr\u1ecb c\u1ee7a bi\u1ec3u th\u1ee9c:   \n",
        "\n",
        "$$\n",
        "\\frac{SalePrice}{LotArea} \\times 0.1\n",
        "$$\n",
        "\n",
        "C\u00f4ng th\u1ee9c tr\u00ean ch\u1ec9 l\u00e0 gi\u1ea3 s\u1eed v\u00ec em ch\u01b0a mua nh\u00e0 bao gi\u1edd n\u00ean kh\u00f4ng bi\u1ebft c\u00f3 ch\u00ednh x\u00e1c kh\u00f4ng `=)`."
      ]
    },
    {
      "cell_type": "code",
      "execution_count": 40,
      "metadata": {},
      "outputs": [],
      "source": [
        "!python3 honoda.py -o out.csv evaluate \"( SalePrice / LotArea ) * 0.1\" ../house-prices.csv"
      ]
    },
    {
      "cell_type": "code",
      "execution_count": 41,
      "metadata": {},
      "outputs": [
        {
          "name": "stdout",
          "output_type": "stream",
          "text": [
            "out\n",
            "2.5213524215656413\n",
            "1.0343426132899818\n",
            "2.0\n",
            "1.4462809917355373\n",
            "1.128632033939006\n"
          ]
        }
      ],
      "source": [
        "# Li\u1ec7t k\u00ea ra 5 d\u00f2ng \u0111\u1ea7u c\u1ee7a c\u1ed9t k\u1ebft qu\u1ea3\n",
        "!head -n 6 out.csv"
      ]
    },
    {
      "cell_type": "markdown",
      "metadata": {},
      "source": [
        "Th\u1eed in ra c\u00e1c tham s\u1ed1 th\u1ed1ng k\u00ea c\u1ee7a c\u1ed9t m\u1edbi n\u00e0y"
      ]
    },
    {
      "cell_type": "code",
      "execution_count": 42,
      "metadata": {},
      "outputs": [
        {
          "name": "stdout",
          "output_type": "stream",
          "text": [
            "Type:             <class 'float'>\n",
            "Length:           1000\n",
            "Null values:      0\n",
            "Label:            out\n",
            "Sum:              2127.1049\n",
            "Mean:             2.1271\n",
            "Median:           1.7877\n",
            "Std:              1.2745\n",
            "Min-Max:          (0.17422007479848545, 8.384506376948513)\n",
            "Mode:             (1.581798483206934, 4)\n"
          ]
        }
      ],
      "source": [
        "!python3 honoda.py stats --describe out out.csv"
      ]
    },
    {
      "cell_type": "markdown",
      "metadata": {},
      "source": [
        "Th\u1eed ki\u1ec3m ch\u1ee9ng l\u1ea1i k\u1ebft qu\u1ea3 b\u1eb1ng `pandas`:"
      ]
    },
    {
      "cell_type": "code",
      "execution_count": 43,
      "metadata": {},
      "outputs": [
        {
          "data": {
            "text/plain": [
              "0    2.521352\n",
              "1    1.034343\n",
              "2    2.000000\n",
              "3    1.446281\n",
              "4    1.128632\n",
              "dtype: float64"
            ]
          },
          "execution_count": 43,
          "metadata": {},
          "output_type": "execute_result"
        }
      ],
      "source": [
        "result = (df['SalePrice'] / df['LotArea']) * 0.1\n",
        "result.head(5)"
      ]
    },
    {
      "cell_type": "code",
      "execution_count": 44,
      "metadata": {},
      "outputs": [
        {
          "data": {
            "text/plain": [
              "count    1000.000000\n",
              "mean        2.127105\n",
              "std         1.275179\n",
              "min         0.174220\n",
              "25%         1.377803\n",
              "50%         1.787686\n",
              "75%         2.458818\n",
              "max         8.384506\n",
              "dtype: float64"
            ]
          },
          "execution_count": 44,
          "metadata": {},
          "output_type": "execute_result"
        }
      ],
      "source": [
        "result.describe()"
      ]
    },
    {
      "cell_type": "markdown",
      "metadata": {},
      "source": [
        "Quan s\u00e1t 5 d\u00f2ng \u0111\u1ea7u v\u00e0 2 th\u00f4ng s\u1ed1 `mean`, `std`, ta c\u00f3 th\u1ec3 th\u1ea5y \u0111\u01b0\u1ee3c c\u00e1c k\u1ebft qu\u1ea3 ho\u00e0n to\u00e0n tr\u00f9ng kh\u1edbp v\u1edbi nhau."
      ]
    },
    {
      "cell_type": "markdown",
      "metadata": {},
      "source": [
        "Th\u1eed l\u1ea1i v\u1edbi m\u1ed9t bi\u1ec3u th\u1ee9c kh\u00e1c. Gi\u1ea3 s\u1eed l\u1ea7n n\u00e0y em mu\u1ed1n t\u00f3m t\u1eaft th\u00f4ng tin c\u1ee7a ng\u00f3i nh\u00e0 n\u00ean em mu\u1ed1n join 2 c\u1ed9t **text** l\u00e0 `RoofStyle` v\u00e0 `RoofMatl`. L\u00fd do c\u00e1i n\u00e0y ho\u1ea1t \u0111\u1ed9ng \u0111\u01b0\u1ee3c l\u00e0 v\u00ec \u1edf b\u00ean d\u01b0\u1edbi em implement b\u1eb1ng operator overloading n\u00ean h\u1ec5 ki\u1ec3u d\u1eef li\u1ec7u c\u1ee7a 2 c\u1ed9t (trong Python) c\u00f3 h\u1ed7 tr\u1ee3 c\u00e1c to\u00e1n t\u1eed \u0111\u00e3 n\u00eau th\u00ec \u0111\u1ec1u c\u00f3 th\u1ec3 th\u1ef1c hi\u1ec7n \u0111\u01b0\u1ee3c ph\u00e9p t\u00ednh."
      ]
    },
    {
      "cell_type": "code",
      "execution_count": 45,
      "metadata": {},
      "outputs": [],
      "source": [
        "!python3 honoda.py -o out.csv evaluate \"RoofStyle + RoofMatl \" ../house-prices.csv"
      ]
    },
    {
      "cell_type": "code",
      "execution_count": 46,
      "metadata": {},
      "outputs": [
        {
          "name": "stdout",
          "output_type": "stream",
          "text": [
            "out\n",
            "HipCompShg\n",
            "GableCompShg\n",
            "GableCompShg\n",
            "GableCompShg\n",
            "GableCompShg\n",
            "GableCompShg\n",
            "GableCompShg\n",
            "HipCompShg\n",
            "GableCompShg\n",
            "GableCompShg\n"
          ]
        }
      ],
      "source": [
        "!head -n 11 out.csv"
      ]
    },
    {
      "cell_type": "markdown",
      "metadata": {},
      "source": [
        "Ki\u1ec3m tra l\u1ea1i b\u1eb1ng `pandas`:"
      ]
    },
    {
      "cell_type": "code",
      "execution_count": 47,
      "metadata": {},
      "outputs": [
        {
          "data": {
            "text/plain": [
              "0      HipCompShg\n",
              "1    GableCompShg\n",
              "2    GableCompShg\n",
              "3    GableCompShg\n",
              "4    GableCompShg\n",
              "5    GableCompShg\n",
              "6    GableCompShg\n",
              "7      HipCompShg\n",
              "8    GableCompShg\n",
              "9    GableCompShg\n",
              "dtype: object"
            ]
          },
          "execution_count": 47,
          "metadata": {},
          "output_type": "execute_result"
        }
      ],
      "source": [
        "(df['RoofStyle'] + df['RoofMatl']).head(10)"
      ]
    },
    {
      "cell_type": "markdown",
      "metadata": {},
      "source": [
        "Ta c\u0169ng c\u00f3 th\u1ec3 th\u1ea5y \u0111\u01b0\u1ee3c 2 k\u1ebft qu\u1ea3 ho\u00e0n to\u00e0n tr\u00f9ng kh\u1edbp v\u1edbi nhau."
      ]
    },
    {
      "cell_type": "markdown",
      "metadata": {},
      "source": [
        "# T\u00e0i li\u1ec7u tham kh\u1ea3o \n",
        "1. Slide b\u00e0i gi\u1ea3ng l\u00fd thuy\u1ebft.\n",
        "2. Weka documentation: \\url{https://waikato.github.io/weka-wiki/documentation/}\n",
        "3. Pandas documentation: \\url{https://pandas.pydata.org/docs/}\n",
        "4. Python documentation -- `argparse`: \\url{https://docs.python.org/3/library/argparse.html}\n",
        "5. Python documentation -- `csv`: \\url{https://docs.python.org/3/library/csv.html}\n",
        "6. GeeksforGeeks: Infix to Postfix conversion: \\url{https://www.geeksforgeeks.org/stack-set-2-infix-to-postfix/}"
      ]
    }
  ],
  "metadata": {
    "authors": [
      {
        "name": "19120615 - H\u00f9ng Ng\u1ecdc Ph\u00e1t"
      }
    ],
    "interpreter": {
      "hash": "3d597f4c481aa0f25dceb95d2a0067e73c0966dcbd003d741d821a7208527ecf"
    },
    "kernelspec": {
      "display_name": "Python 3 (ipykernel)",
      "language": "python",
      "name": "python3"
    },
    "language_info": {
      "codemirror_mode": {
        "name": "ipython",
        "version": 3
      },
      "file_extension": ".py",
      "mimetype": "text/x-python",
      "name": "python",
      "nbconvert_exporter": "python",
      "pygments_lexer": "ipython3",
      "version": "3.8.8"
    },
    "subject": "Khai th\u00e1c d\u1eef li\u1ec7u v\u00e0 \u1ee8ng d\u1ee5ng",
    "title": "B\u00e1o c\u00e1o Lab01 - Ti\u1ec1n x\u1eed l\u00fd d\u1eef li\u1ec7u"
  },
  "nbformat": 4,
  "nbformat_minor": 4
}
